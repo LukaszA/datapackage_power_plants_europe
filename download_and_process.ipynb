{
 "cells": [
  {
   "cell_type": "markdown",
   "metadata": {},
   "source": [
    "# Table of Contents\n",
    "* [1. TODO](#1.-TODO)\n",
    "* [2. Prepare the environment](#2.-Prepare-the-environment)\n",
    "* [3. Definition of download sources](#3.-Definition-of-download-sources)\n",
    "* [4. Define costum python functions](#4.-Define-costum-python-functions)\n",
    "* [5. Download of data](#5.-Download-of-data)\n",
    "* [6. Universal template for columns](#6.-Universal-template-for-columns)\n",
    "* [7. Belgium](#7.-Belgium)\n",
    "\t* [7.1 Import data](#7.1-Import-data)\n",
    "\t* [7.2 Translate and adjust columns](#7.2-Translate-and-adjust-columns)\n",
    "\t* [7.3 Generate information concerning type and CHP](#7.3-Generate-information-concerning-type-and-CHP)\n",
    "\t* [7.4 Translate and adjust technology types](#7.4-Translate-and-adjust-technology-types)\n",
    "\t* [7.5 Translate and adjust types of energy sources](#7.5-Translate-and-adjust-types-of-energy-sources)\n",
    "\t* [7.6 Generate information concerning technology](#7.6-Generate-information-concerning-technology)\n",
    "\t* [7.7 Merger with list containing EIC-codes and geographic coordinates](#7.7-Merger-with-list-containing-EIC-codes-and-geographic-coordinates)\n",
    "* [8. The Netherlands](#8.-The-Netherlands)\n",
    "\t* [8.1 Import and merge data](#8.1-Import-and-merge-data)\n",
    "\t* [8.2 Translate and adjust columns](#8.2-Translate-and-adjust-columns)\n",
    "\t* [8.3 Translate and adjust types of energy sources](#8.3-Translate-and-adjust-types-of-energy-sources)\n",
    "\t* [8.4 Adjust capacity](#8.4-Adjust-capacity)\n",
    "\t* [8.5 Merger with list containing EIC-codes and geographic coordinates](#8.5-Merger-with-list-containing-EIC-codes-and-geographic-coordinates)\n",
    "* [9. Italy](#9.-Italy)\n",
    "\t* [9.1 Import data](#9.1-Import-data)\n",
    "\t* [9.2 Translate and adjust columns](#9.2-Translate-and-adjust-columns)\n",
    "\t* [9.3 Translate and adjust types of energy sources](#9.3-Translate-and-adjust-types-of-energy-sources)\n",
    "\t* [9.4 Merger with list containing EIC-codes and geographic coordinates](#9.4-Merger-with-list-containing-EIC-codes-and-geographic-coordinates)\n",
    "* [10. France](#10.-France)\n",
    "\t* [10.1 Import data](#10.1-Import-data)\n",
    "\t* [10.2 Translate and adjust columns](#10.2-Translate-and-adjust-columns)\n",
    "\t* [10.3 Translate energy sources and generate technologies](#10.3-Translate-energy-sources-and-generate-technologies)\n",
    "\t* [10.4 Merger with list containing EIC-codes and geographic coordinates](#10.4-Merger-with-list-containing-EIC-codes-and-geographic-coordinates)\n",
    "* [11. Finland](#11.-Finland)\n",
    "\t* [11.1 Import data](#11.1-Import-data)\n",
    "\t* [11.2 Translate and adjust columns](#11.2-Translate-and-adjust-columns)\n",
    "\t* [11.3 Translate and adjust fuel types](#11.3-Translate-and-adjust-fuel-types)\n",
    "\t* [11.4 Generate technology types](#11.4-Generate-technology-types)\n",
    "\t* [11.5 Translate and adjust types](#11.5-Translate-and-adjust-types)\n",
    "\t* [11.6 Merger with list containing EIC-codes and geographic coordinates](#11.6-Merger-with-list-containing-EIC-codes-and-geographic-coordinates)\n",
    "* [12. Poland](#12.-Poland)\n",
    "\t* [12.1 Import data](#12.1-Import-data)\n",
    "\t* [12.2 Translate and adjust columns](#12.2-Translate-and-adjust-columns)\n",
    "\t* [12.3 Translate and adjust fuel types](#12.3-Translate-and-adjust-fuel-types)\n",
    "\t* [12.4 Generate technology types](#12.4-Generate-technology-types)\n",
    "\t* [12.5 Merger with list containing EIC-codes, geographic coordinates and further power plants](#12.5-Merger-with-list-containing-EIC-codes,-geographic-coordinates-and-further-power-plants)\n",
    "* [13. Spain](#13.-Spain)\n",
    "\t* [13.1 Import data](#13.1-Import-data)\n",
    "\t* [13.2 Translate and adjust columns](#13.2-Translate-and-adjust-columns)\n",
    "\t* [13.3 Translate and adjust fuel types](#13.3-Translate-and-adjust-fuel-types)\n",
    "\t* [13.4 Translate and adjust technology types](#13.4-Translate-and-adjust-technology-types)\n",
    "\t* [13.5 Generate and adjust fuel types](#13.5-Generate-and-adjust-fuel-types)\n",
    "\t* [13.6 Merger with list containing EIC-codes and geographic coordinates](#13.6-Merger-with-list-containing-EIC-codes-and-geographic-coordinates)\n",
    "* [14. United Kingdom](#14.-United-Kingdom)\n",
    "\t* [14.1 Import data](#14.1-Import-data)\n",
    "\t* [14.2 Translate and adjust columns](#14.2-Translate-and-adjust-columns)\n",
    "\t* [14.3 Generate and adjust technology types](#14.3-Generate-and-adjust-technology-types)\n",
    "\t* [14.4 Translate and adjust fuel types](#14.4-Translate-and-adjust-fuel-types)\n",
    "\t* [14.5 Merger with list containing EIC-codes and geographic coordinates](#14.5-Merger-with-list-containing-EIC-codes-and-geographic-coordinates)\n",
    "* [15. Czech Republic](#15.-Czech-Republic)\n",
    "\t* [15.1 Import data](#15.1-Import-data)\n",
    "\t* [15.2 Translate and adjust columns](#15.2-Translate-and-adjust-columns)\n",
    "\t* [15.3 Translate and adjust technology types](#15.3-Translate-and-adjust-technology-types)\n",
    "\t* [15.4 Merger with list containing EIC-codes, geographic coordinates and further power plants](#15.4-Merger-with-list-containing-EIC-codes,-geographic-coordinates-and-further-power-plants)\n",
    "* [16. Switzerland](#16.-Switzerland)\n",
    "\t* [16.1 Import of hydropower data](#16.1-Import-of-hydropower-data)\n",
    "\t* [16.2 Transformation of geographical hydro power data to WGS84 projection](#16.2-Transformation-of-geographical-hydro-power-data-to-WGS84-projection)\n",
    "\t* [16.3 Merger of columns belonging together](#16.3-Merger-of-columns-belonging-together)\n",
    "\t* [16.4 Translate and adjust columns](#16.4-Translate-and-adjust-columns)\n",
    "\t* [16.5 Translate and adjust technology and availability types¶](#16.5-Translate-and-adjust-technology-and-availability-types¶)\n",
    "\t* [16.6 Merger with list containing conventional power plants](#16.6-Merger-with-list-containing-conventional-power-plants)\n",
    "* [17. Create output-files](#17.-Create-output-files)\n",
    "* [18. Documenting the data package (meta data)](#18.-Documenting-the-data-package-%28meta-data%29)\n",
    "* [19. Write results to file](#19.-Write-results-to-file)\n"
   ]
  },
  {
   "cell_type": "markdown",
   "metadata": {},
   "source": [
    "# 1. TODO"
   ]
  },
  {
   "cell_type": "markdown",
   "metadata": {},
   "source": [
    "Update Code:\n",
    "- Funktion anpassen (data['Spalte1'][data['Spalte2']=='Kriterium'] = 'wert') zu (data.loc[data['Spalte2']=='Kiterium', 'Spalte1'] = 'wert') [DONE]\n",
    "- Spalte hinzufügen und sortieren am besten über ein allgemein definierten Parameter 'columns_sorted' umsetzen, anstatt länderspezifischer Parmaeter 'columns_sorted_XX' [DONE]\n",
    "- Code anpassen auf [PEP8-Guidelines](https://www.python.org/dev/peps/pep-0008/) [DONE]\n",
    "- Einarbeiten der Informationen von TOM bzgl. Wasser in CH, AT, FR (Laufwerksordner: Daten/Hydro) - ACHTUNG: CH wird bereits direkt im Code eingelesen, daher kann dort direkt aus den Rohdaten die finalen Daten abgeleitet werden. GeoKoordinatenn sind ebenfalls im ursprünglichen File 'BFE_hydrodata' enthalten. Daher ist 'BFE_hydrogeo' eigentlich überflüssig.\n",
    "- Einlesen der Geokoordinaten für konventionelle Kraftwerke, sofern Recherche beendet [OPEN, Daten für Westeuropa fehlen noch]\n",
    "- TOM hat angefangen mit konvetionellen Kraftwerken in AT, CH. Bitte daher die Daten vervollständigen (Laufwerksordner: Daten/'Schweiz Österreich konventionell')\n",
    "- Für CH Kernkraft gibt es eine API die Detailinformationen liefert: Direkter Zugriff auf Informationen für Import (JSON?): https://api3.geo.admin.ch/rest/services/ech/MapServer/ch.bfe.kernkraftwerke/1 / Darstellung als HTML unter diesem Link: https://api3.geo.admin.ch/rest/services/ech/MapServer/ch.bfe.kernkraftwerke/1/extendedHtmlPopup?lang=de / Link zur Landkarte: https://map.geo.admin.ch/?layers=ch.bfe.kernkraftwerke&topic=ech&lang=de&bgLayer=ch.swisstopo.pixelkarte-farbe [OPEN]\n",
    "\n",
    "Erweiterung CODE:\n",
    "- Vergleich der kraftwerksscharfen Kapazitäten mit den aggregierten Kapazitäten. Haben wir schon in Excel gemacht, wäre aber gut dies direkt in Python einzubinden (Herunterladen aktueller Lsite der aggregierten Kapaaziteäten von OPSD-Seite (evlt. noch nicht möglich, da Passwort verlangt wird. HIer vielleicht mal den Code von den Timeseries anschauen, da diese ebenfalls Daten von der OPSD-Seite runterladen!) und dann Vergleich mit kraftwerksscharfer Liste.) [OPEN]\n"
   ]
  },
  {
   "cell_type": "markdown",
   "metadata": {},
   "source": [
    "# 2. Prepare the environment"
   ]
  },
  {
   "cell_type": "markdown",
   "metadata": {},
   "source": [
    "Import of every module and function needed to process the data and creation of the target folders. The package pyproj need to installed as they are not part of the standard Anaconda installation."
   ]
  },
  {
   "cell_type": "code",
   "execution_count": null,
   "metadata": {
    "collapsed": false
   },
   "outputs": [],
   "source": [
    "# Jan: requests, csv, numpy, datetime, re werden vom Skript nicht benutzt. \n",
    "# Außerdem sollten nicht benutzte Sachen gelöscht werden oder gruppiert \n",
    "# auskommentiert werden. Alle imports sollten am Anfang des Skripts stehen.\n",
    "import requests\n",
    "import os\n",
    "import urllib.request\n",
    "import zipfile\n",
    "import csv\n",
    "import pandas as pd\n",
    "import numpy as np\n",
    "#import posixpath\n",
    "import urllib.parse\n",
    "import datetime\n",
    "import re\n",
    "import os.path\n",
    "import yaml  # http://pyyaml.org/, pip install pyyaml, conda install pyyaml\n",
    "import json\n",
    "import datetime\n",
    "#import subprocess\n",
    "import logging\n",
    "import pyproj  # required for transforming coordinates\n",
    "#from bokeh.charts import Scatter, show\n",
    "#from bokeh.io import output_notebook\n",
    "#output_notebook()\n",
    "%matplotlib inline\n",
    "\n",
    "logger = logging.getLogger('notebook')\n",
    "logger.setLevel('INFO')\n",
    "nb_root_logger = logging.getLogger()\n",
    "formatter = logging.Formatter(\n",
    "    '%(asctime)s - %(name)s - %(levelname)s - %(message)s',\n",
    "    datefmt='%d %b %Y %H:%M:%S')\n",
    "nb_root_logger.handlers[0].setFormatter(formatter)\n",
    "\n",
    "# create download and output folder if they do not exist\n",
    "os.makedirs('data_downloaded', exist_ok=True)\n",
    "os.makedirs('data_processed', exist_ok=True)\n",
    "os.makedirs('data_final', exist_ok=True)\n"
   ]
  },
  {
   "cell_type": "markdown",
   "metadata": {},
   "source": [
    "# 3. Definition of download sources"
   ]
  },
  {
   "cell_type": "markdown",
   "metadata": {},
   "source": [
    "Input of relevant meta data for every country and data source to facilitate the download loop. "
   ]
  },
  {
   "cell_type": "code",
   "execution_count": null,
   "metadata": {
    "collapsed": false
   },
   "outputs": [],
   "source": [
    "conf = \"\"\"\n",
    "    BE: \n",
    "        Elia: \n",
    "            url_template: http://publications.elia.be/upload/ProductionParkOverview.xls?TS=20120416193815\n",
    "            filename: ProductionParkOverview\n",
    "            filetype: xls\n",
    "            sheetname: 'ProductionParkOverview'\n",
    "            skiprows: 1\n",
    "    NL: \n",
    "        Tennet_Q12015: \n",
    "            url_template: http://www.tennet.org/english/operational_management/export_data.aspx?exporttype=installedcapacity&format=csv&quarter=2015-1&submit=3\n",
    "            filename: export_Q12015\n",
    "            filetype: csv\n",
    "            sep: ','\n",
    "            skiprows: 0\n",
    "            decimal: '.'\n",
    "            encoding: 'utf-8'\n",
    "        Tennet_Q22015: \n",
    "            url_template: http://www.tennet.org/english/operational_management/export_data.aspx?exporttype=installedcapacity&format=csv&quarter=2015-2&submit=3\n",
    "            filename: export_Q22015\n",
    "            filetype: csv\n",
    "            sep: ','\n",
    "            skiprows: 0\n",
    "            decimal: '.'\n",
    "            encoding: 'utf-8'\n",
    "        Tennet_Q32015: \n",
    "            url_template: http://www.tennet.org/english/operational_management/export_data.aspx?exporttype=installedcapacity&format=csv&quarter=2015-3&submit=3\n",
    "            filename: export_Q32015\n",
    "            filetype: csv\n",
    "            sep: ','\n",
    "            skiprows: 0\n",
    "            decimal: '.'\n",
    "            encoding: 'utf-8'\n",
    "        Tennet_Q42015: \n",
    "            url_template: http://www.tennet.org/english/operational_management/export_data.aspx?exporttype=installedcapacity&format=csv&quarter=2015-4&submit=3\n",
    "            filename: export_Q42015\n",
    "            filetype: csv\n",
    "            sep: ','\n",
    "            skiprows: 0\n",
    "            decimal: '.'\n",
    "            encoding: 'utf-8'\n",
    "    IT:\n",
    "        Terna: \n",
    "            url_template: http://download.terna.it/terna/0000/0216/16.XLSX \n",
    "            filename: 16\n",
    "            filetype: xls\n",
    "            sheetname: 'UPR PmaxOver 100MW'\n",
    "            skiprows: 0\n",
    "\n",
    "# http://www.terna.it/it-it/sistemaelettrico/transparencyreport/generation/installedgenerationcapacity.aspx\n",
    "    \n",
    "    FR: \n",
    "        RTE: \n",
    "            url_template: http://clients.rte-france.com/servlets/CodesEICServlet\n",
    "            filename: Centrales_production_reference\n",
    "            filetype: zip\n",
    "            sep: '\\t'\n",
    "            skiprows: 2\n",
    "            decimal: ','\n",
    "            encoding: 'cp1252'\n",
    "            \n",
    "    ES: \n",
    "        SEDE: \n",
    "            url_template: http://www6.mityc.es/aplicaciones/electra/ElectraExp.csv.zip\n",
    "            filename: ElectraExp\n",
    "            filetype: zip\n",
    "            sep: ';'\n",
    "            skiprows: 0\n",
    "            decimal: ','\n",
    "            encoding: 'utf-8'\n",
    "\n",
    "# https://sedeaplicaciones.minetur.gob.es/electra/BuscarDatos.aspx\n",
    "\n",
    "    FI: \n",
    "        EnergyAuthority: \n",
    "            url_template: http://www.energiavirasto.fi/documents/10191/0/Energiaviraston+Voimalaitosrekisteri+040316.xlsx\n",
    "            filename: Energiaviraston+Voimalaitosrekisteri+040316\n",
    "            filetype: xlsx\n",
    "            sheetname: 'English'\n",
    "            skiprows: 1\n",
    "            \n",
    "#    DK1: \n",
    "#        EnerginetDK: \n",
    "#            url_template: https://www.energinet.dk/SiteCollectionDocuments/Engelske%20dokumenter/El/Energinet%20dk%27s%20assumptions%20for%20analysis%202014-2035,%20September%202014.xlsm\n",
    "#            filename: Energinet dk's assumptions for analysis 2014-2035, September 2014\n",
    "#            filetype: xlsm\n",
    "#            sheetname: 'Power plants, West'\n",
    "#            skiprows: 6\n",
    "    \n",
    "#    DK2: \n",
    "#        EnerginetDK: \n",
    "#            url_template: https://www.energinet.dk/SiteCollectionDocuments/Engelske%20dokumenter/El/Energinet%20dk%27s%20assumptions%20for%20analysis%202014-2035,%20September%202014.xlsm\n",
    "#            filename: Energinet dk's assumptions for analysis 2014-2035, September 2014\n",
    "#            filetype: xlsm\n",
    "#            sheetname: 'Power plants, East'\n",
    "#            skiprows: 6\n",
    "  \n",
    "    PL: \n",
    "        GPI: \n",
    "            url_template: http://gpi.tge.pl/en/wykaz-jednostek?p_p_id=powerunits_WAR_powerunitsportlet&p_p_lifecycle=2&p_p_state=normal&p_p_mode=view&p_p_cacheability=cacheLevelPage&p_p_col_id=column-1&p_p_col_count=1\n",
    "            filename: units_list\n",
    "            filetype: csv            \n",
    "            sep: ';'\n",
    "            skiprows: 0\n",
    "            decimal: '.'\n",
    "            encoding: 'utf-8'\n",
    "\n",
    "    UK: \n",
    "        GOV: \n",
    "            url_template: https://www.gov.uk/government/uploads/system/uploads/attachment_data/file/446457/dukes5_10.xls\n",
    "            filename: dukes5_10\n",
    "            filetype: xls\n",
    "            sheetname: 'Database'\n",
    "            skiprows: 3\n",
    "            \n",
    "    CZ:\n",
    "        CEPS:\n",
    "            url_template: http://www.ceps.cz/_layouts/15/Ceps/_Pages/GraphData.aspx?mode=xlsx&from=1/1/2010%2012:00:00%20AM&to=12/31/2015%2011:59:59%20PM&hasinterval=False&sol=9&lang=ENG&ver=YF&\n",
    "            filename: Data\n",
    "            filetype: xlsx\n",
    "            sheetname: 'NewWorksheet'\n",
    "            skiprows: 2\n",
    "  \n",
    "    CH:\n",
    "        BFE_HydroData:\n",
    "            url_template: http://www.bfe.admin.ch/php/modules/publikationen/stream.php?extlang=de&name=de_416798061.zip&endung=Statistik%20der%20Wasserkraftanlagen%20der%20Schweiz\n",
    "            filename: 'Statistik der Wasserkraftanlagen der Schweiz 1.1.2016'\n",
    "            filetype: zip\n",
    "            sep: ';'\n",
    "            skiprows: 0\n",
    "            decimal: '.'\n",
    "            encoding: 'cp1252'\n",
    "#        BFE_HydroGeo:\n",
    "#            url_template: http://www.bfe.admin.ch/php/modules/publikationen/stream.php?extlang=de&name=de_123526626.zip&endung=Statistik%20der%20Wasserkraftanlagen%20(WASTA)%20-%20Geodaten%20im%20SHAPE-Format\n",
    "#            filename: HydropowerPlant\n",
    "#            filetype: zip\n",
    "#            encoding: 'cp1252'\n",
    "            \n",
    "            \n",
    "  \"\"\"\n",
    "conf = yaml.load(conf)"
   ]
  },
  {
   "cell_type": "markdown",
   "metadata": {},
   "source": [
    "# 4. Define costum python functions"
   ]
  },
  {
   "cell_type": "markdown",
   "metadata": {},
   "source": [
    "Definition of the download process and adjustment of the file name according to the acutal date."
   ]
  },
  {
   "cell_type": "code",
   "execution_count": null,
   "metadata": {
    "collapsed": false
   },
   "outputs": [],
   "source": [
    "# FRAUKE: Das mit dem Runterladedatum im Filename find ich sehr schlau\n",
    "# Jan: Mit os.path.join können Dateipfade gebaut werden. Diese benutzten dann\n",
    "# abhängig vom Betriebssystem die richtigen Seperatoren. \n",
    "def downloadandcache(url,filename,filetype):\n",
    "    \"\"\"This function downloads a file into a folder called \n",
    "    data-downloaded and returns the local filepath.\"\"\"\n",
    "    # Jan: path wird nicht verwendet\n",
    "    path = urllib.parse.urlsplit(url).path\n",
    "#   filename = posixpath.basename(path)\n",
    "    filename = str(filename)\n",
    "    filetype = filetype\n",
    "    now = datetime.datetime.now()\n",
    "    datestring = \"\"\n",
    "    datestring = str(now.year)+\"-\"+str(now.month)+\"-\"+str(now.day)\n",
    "    filepath = \"data_downloaded/\"+datestring+\"-\"+filename+\".\"+filetype\n",
    "    # Jan: Wird nicht verwendet\n",
    "    filepath_original_data = \"data_original/\"+filename+\".\"+filetype\n",
    "\n",
    "    # Check if file exists, otherwise download it\n",
    "    # Jan: if not os.path.exists(filepath) wäre die typische Pythonschreibweise\n",
    "    if os.path.exists(filepath) == False:\n",
    "        print(\"Downloading file\", filename+\".\"+filetype)\n",
    "        urllib.request.urlretrieve(url, filepath)\n",
    "        #urllib.request.urlretrieve(url, filepath_original_data)\n",
    "    else:\n",
    "        print(\"Using local file from\", filepath)\n",
    "    filepath = './'+filepath\n",
    "    return filepath\n",
    "# Laut PEP8 sollen zwischen Funtkionsdefinitionen zwei leere Zeilen stehen\n",
    "\n",
    "def importdata(country, tso):\n",
    "    now = datetime.datetime.now()\n",
    "    # Jan: Nicht notwendig die Variable vorher zu deklarieren.\n",
    "    datestring = \"\"\n",
    "    datestring = str(now.year)+\"-\"+str(now.month)+\"-\"+str(now.day)\n",
    "    # Jan: Wird nicht verwendet\n",
    "    data_import=pd.DataFrame()\n",
    "    param = conf[country][tso]\n",
    "    filepath = \"data_downloaded/\"+datestring+\"-\"+str(\n",
    "        param['filename'])+\".\"+param['filetype']\n",
    "    if param['filetype'] == 'csv':\n",
    "        data_import = pd.read_csv(filepath,\n",
    "                                  sep=param['sep'],\n",
    "                                  skiprows=param['skiprows'],\n",
    "                                  decimal=param['decimal'],\n",
    "                                  encoding=param['encoding'])\n",
    "    elif param['filetype'] == 'dbf':\n",
    "        dbf = Dbf5(filepath, codec=param['encoding'])\n",
    "        data_import = dbf.to_dataframe()\n",
    "    else:\n",
    "        data_import = pd.read_excel(filepath,\n",
    "                                    sheetname=param['sheetname'],\n",
    "                                    skiprows=param['skiprows'])\n",
    "\n",
    "    data_import['Country'] = str(country)\n",
    "    data_import['Source'] = str(tso)\n",
    "\n",
    "    return data_import\n"
   ]
  },
  {
   "cell_type": "markdown",
   "metadata": {},
   "source": [
    "# 5. Download of data"
   ]
  },
  {
   "cell_type": "markdown",
   "metadata": {},
   "source": [
    "Start of the download loop. Consideration of two exceptions due to file types (ZIP-file)."
   ]
  },
  {
   "cell_type": "code",
   "execution_count": null,
   "metadata": {
    "collapsed": false
   },
   "outputs": [],
   "source": [
    "# Jan: Um das Lesen einfacher zu machen, ist es besser Variablen einzigartige\n",
    "# Namen zu geben. In diesen Fall könnte man das zweite tso in tso_name \n",
    "# umbenennen.\n",
    "# Der Aufruf param['filename'] findet oft statt. Man könnte diesen Teil \n",
    "# leserlichen machen, wenn man eine Variable stattdessen verwendet.\n",
    "# Viel Code wiederholt sich hier. Die Lesbarkeit würde bei der Verwendung\n",
    "# einer Funktion steigen.\n",
    "# FRAUKE: Bei mir wird nochmal runtergeladen obwohl ich schon alle Dateien\n",
    "## runtergeladen hatte, also das if os.path.exists(filepath) == False funktioniert nicht\n",
    "for country, tso in conf.items():\n",
    "    for tso, param in tso.items():\n",
    "        print(param['url_template'])\n",
    "#        make_url(param['url_template'],param['filetype'])\n",
    "        downloadandcache(\n",
    "            param['url_template'], param['filename'], param['filetype'])\n",
    "\n",
    "# Special case FR (RTE): ZIP-file with corrupted xls-file is provided, which needs to be renamed to csv\n",
    "        if country == 'FR':\n",
    "            now = datetime.datetime.now()\n",
    "            datestring = str(now.year)+\"-\"+str(now.month)+\"-\"+str(now.day)\n",
    "            filepath = \"data_downloaded/\"+datestring+\"-\"+param['filename']\n",
    "\n",
    "            with zipfile.ZipFile(filepath+\".zip\", \"r\") as O:\n",
    "                O.extractall(\"data_downloaded/\")\n",
    "            if os.path.exists(filepath+\".csv\") == False:\n",
    "                os.rename(\"data_downloaded/\"+param[\n",
    "                    'filename']+\".xls\", filepath+\".csv\")\n",
    "            # change filetype from zip to csv\n",
    "            conf[country][tso]['filetype'] = \"csv\"\n",
    "\n",
    "# Special case ES (SEDE): ZIP-file with csv file\n",
    "        if country == 'ES':\n",
    "            now = datetime.datetime.now()\n",
    "            datestring = str(now.year)+\"-\"+str(now.month)+\"-\"+str(now.day)\n",
    "            filepath = \"data_downloaded/\"+datestring+\"-\"+param['filename']\n",
    "\n",
    "            with zipfile.ZipFile(filepath+\".zip\", \"r\") as O:\n",
    "                O.extractall(\"data_downloaded/\")\n",
    "            if os.path.exists(filepath+\".csv\") == False:\n",
    "                os.rename(\"data_downloaded/\"+param[\n",
    "                    'filename']+\".csv\", filepath+\".csv\")\n",
    "            # change filetype from zip to csv\n",
    "            conf[country][tso]['filetype'] = \"csv\"\n",
    "#            print(conf)\n",
    "\n",
    "# Special case CH (BFE): ZIP-file with csv file\n",
    "        if country == 'CH' and tso == 'BFE_HydroData':\n",
    "            now = datetime.datetime.now()\n",
    "            datestring = str(now.year)+\"-\"+str(now.month)+\"-\"+str(now.day)\n",
    "            filepath = \"data_downloaded/\"+datestring+\"-\"+param['filename']\n",
    "\n",
    "            with zipfile.ZipFile(filepath+\".zip\", \"r\") as O:\n",
    "                O.extractall(\"data_downloaded/\")\n",
    "            if os.path.exists(filepath+\".csv\") == False:\n",
    "                os.rename(\"data_downloaded/\"+param[\n",
    "                    'filename']+\".csv\", filepath+\".csv\")\n",
    "            # change filetype from zip to csv\n",
    "            conf[country][tso]['filetype'] = \"csv\"\n",
    "#            print(conf)\n",
    "    \n",
    "# Special case CH (BFE geographical data): ZIP-file with dbf file \n",
    "#        if country=='CH' and tso=='BFE_HydroGeo':\n",
    "#            now = datetime.datetime.now()\n",
    "#            datestring = str(now.year)+\"-\"+str(now.month)+\"-\"+str(now.day)\n",
    "#            filepath = \"data_downloaded/\"+datestring+\"-\"+param['filename']\n",
    "\n",
    "#            with zipfile.ZipFile(filepath+\".zip\",\"r\") as O:\n",
    "#                O.extractall(\"data_downloaded/\")\n",
    "#            if os.path.exists(filepath+\".dbf\") == False:\n",
    "#                os.rename(\"data_downloaded/\"+param['filename']+\".dbf\",filepath+\".dbf\")\n",
    "#            # change filetype from zip to csv\n",
    "#            conf[country][tso]['filetype'] = \"dbf\"\n",
    "        \n",
    "#print(conf)\n"
   ]
  },
  {
   "cell_type": "markdown",
   "metadata": {},
   "source": [
    "# 6. Universal template for columns"
   ]
  },
  {
   "cell_type": "markdown",
   "metadata": {},
   "source": [
    "Creation of a general template of needed columns and their sorting"
   ]
  },
  {
   "cell_type": "code",
   "execution_count": null,
   "metadata": {
    "collapsed": true
   },
   "outputs": [],
   "source": [
    "columns_sorted = ['Company',\n",
    "                  'Name',\n",
    "                  'Street',\n",
    "                  'Postcode',\n",
    "                  'City',\n",
    "                  'Country',\n",
    "                  'Capacity',\n",
    "                  'Energy_source',\n",
    "                  'Technology',\n",
    "                  'Type',\n",
    "                  'CHP',\n",
    "                  'Commissioned',\n",
    "                  'Comment',\n",
    "                  'Source',\n",
    "                  'Availability',\n",
    "                  'EIC-Code',\n",
    "                  'Lat',\n",
    "                  'Lon']\n"
   ]
  },
  {
   "cell_type": "markdown",
   "metadata": {},
   "source": [
    "# 7. Belgium"
   ]
  },
  {
   "cell_type": "markdown",
   "metadata": {},
   "source": [
    "## 7.1 Import data"
   ]
  },
  {
   "cell_type": "code",
   "execution_count": null,
   "metadata": {
    "collapsed": false
   },
   "outputs": [],
   "source": [
    "# FRAUKE: bei mir kommt da eine Warnung:\n",
    "## WARNING *** file size (40896) not 512 + multiple of sector size (512)\n",
    "# FRAUKE: Der Kommentar verwirrt, da ja nicht nur gecheckt wird ob der Import funktioniert\n",
    "## sondern auch importiert wird.\n",
    "# Check if input works\n",
    "data_BE = importdata('BE', 'Elia')\n"
   ]
  },
  {
   "cell_type": "markdown",
   "metadata": {},
   "source": [
    "## 7.2 Translate and adjust columns"
   ]
  },
  {
   "cell_type": "markdown",
   "metadata": {},
   "source": [
    "Overall adjustment of all columns within the dataframe. \n",
    "Translation, addition, deletion, sorting of columns as well as adjustment of the column entries' types."
   ]
  },
  {
   "cell_type": "code",
   "execution_count": null,
   "metadata": {
    "collapsed": false
   },
   "outputs": [],
   "source": [
    "# Drop columns not needed anymore\n",
    "colsToDrop = ['Unnamed: 0',\n",
    "              'Unnamed: 2',\n",
    "              'Unnamed: 4',\n",
    "              'Unnamed: 6',\n",
    "              'Unnamed: 7',\n",
    "              'Fuel for publication',\n",
    "              'Unnamed: 11']\n",
    "data_BE = data_BE.drop(colsToDrop, axis=1)\n",
    "\n",
    "# Translate columns\n",
    "dict_columns_BE = {'ARP': 'Company',\n",
    "                   'Generation plant': 'Name',\n",
    "                   'Plant Type': 'Technology',\n",
    "                   'Technical Nominal Power (MW)': 'Capacity',\n",
    "                   'Remarks': 'Comment',\n",
    "                   'Fuel': 'Energy_source',\n",
    "                   'Country': 'Country',\n",
    "                   'Source': 'Source'}\n",
    "data_BE.rename(columns=dict_columns_BE, inplace=True)\n",
    "\n",
    "# Check if all columns have been translated\n",
    "for columnnames in data_BE.columns:\n",
    "    if columnnames not in dict_columns_BE.values():\n",
    "        logger.error(\"Untranslated column: \" + columnnames)\n",
    "\n",
    "# Apply general template of columns\n",
    "data_BE = data_BE.reindex(columns=columns_sorted)\n",
    "\n",
    "# Drop rows without capacity entries, so that row with \"Unit connected to Distribution Grid\" is dropped\n",
    "data_BE = data_BE.dropna(subset=['Capacity'])\n",
    "\n",
    "# Adjust types of entries in all columns\n",
    "data_BE.Capacity = data_BE.Capacity.astype(float)\n",
    "#data_BE.Commissioned = data_BE.Commissioned.astype(str)\n",
    "\n",
    "data_BE.head()"
   ]
  },
  {
   "cell_type": "markdown",
   "metadata": {},
   "source": [
    "## 7.3 Generate information concerning type and CHP"
   ]
  },
  {
   "cell_type": "markdown",
   "metadata": {},
   "source": [
    "Generation of entries for the columns \"Type\" and \"CHP\" according to information given in the columns \"Technology\" and \"Type\""
   ]
  },
  {
   "cell_type": "code",
   "execution_count": null,
   "metadata": {
    "collapsed": false
   },
   "outputs": [],
   "source": [
    "data_BE['Type'] = ''\n",
    "# Generate entries in column \"type\" according to technology \"WKK\"\n",
    "data_BE.loc[data_BE['Technology'] == 'WKK', 'Type'] = 'CHP'\n",
    "data_BE.loc[data_BE['Name'].str.contains('WKK'), 'Type'] = 'CHP'\n",
    "\n",
    "# Generate entries in column \"CHP\" according to column \"type\"\n",
    "data_BE.loc[data_BE['Type'] == 'CHP', 'CHP'] = 'Yes'\n"
   ]
  },
  {
   "cell_type": "markdown",
   "metadata": {},
   "source": [
    "## 7.4 Translate and adjust technology types"
   ]
  },
  {
   "cell_type": "markdown",
   "metadata": {},
   "source": [
    "TODO: workaround for 'WKK' - Extract technology from name\n",
    "\n",
    "Overall translation of all technology types mentioned in the column \"Technology\" and subsequent translation check."
   ]
  },
  {
   "cell_type": "code",
   "execution_count": null,
   "metadata": {
    "collapsed": false
   },
   "outputs": [],
   "source": [
    "# Translate technologies\n",
    "dict_technology_BE = {'GT': 'Gas turbine',\n",
    "                      'BG': 'Steam turbine',\n",
    "                      'CL': 'Steam turbine',\n",
    "                      'WKK': 'UNKNOWN',\n",
    "                      'CCGT': 'Combined cycle',\n",
    "                      'D': 'Steam turbine',\n",
    "                      'HU': 'Differently categorized hydro',\n",
    "                      'IS': 'Steam turbine',\n",
    "                      'NU': 'Steam turbine',\n",
    "                      'TJ': 'Gas turbine',\n",
    "                      'WT': 'Differently categorized wind',\n",
    "                      ' ': ' '}\n",
    "data_BE[\"Technology\"].replace(dict_technology_BE, inplace=True)\n",
    "data_BE[\"Technology\"].unique()\n",
    "\n",
    "data_BE.loc[(data_BE['Name'].str.contains('Steam turbine') | data_BE[\n",
    "    'Name'].str.contains('Steam turbine')) &\n",
    "    ((data_BE['Technology'] == 'UNKNOWN') | data_BE[\n",
    "        'Technology'].isnull()), 'Technology'] = 'Steam turbine'\n",
    "data_BE.loc[(data_BE['Name'].str.contains('Gas turbine') | data_BE[\n",
    "    'Name'].str.contains('Gas turbine')) &\n",
    "    ((data_BE['Technology'] == 'UNKNOWN') | data_BE[\n",
    "        'Technology'].isnull()), 'Technology'] = 'Gas turbine'\n",
    "\n",
    "# Check if all technologies have been translated\n",
    "for technology in data_BE[\"Technology\"].unique():\n",
    "    if (not technology in dict_technology_BE.values()) & (str(technology) != \"nan\"):\n",
    "        logger.error(\"Untranslated technology: \" + str(technology))\n",
    "        \n",
    "data_BE.head(100)"
   ]
  },
  {
   "cell_type": "markdown",
   "metadata": {},
   "source": [
    "## 7.5 Translate and adjust types of energy sources"
   ]
  },
  {
   "cell_type": "markdown",
   "metadata": {},
   "source": [
    "Overall translation of all energy sources types mentioned in the column \"Energy_sources\" and subsequent translation check. Deletion of rows containing \"wind\" as fuel type."
   ]
  },
  {
   "cell_type": "code",
   "execution_count": null,
   "metadata": {
    "collapsed": false
   },
   "outputs": [],
   "source": [
    "# Translate energy sources\n",
    "dict_energysources_BE = {'BIO': 'Biomass and biogas',\n",
    "                         'BF': 'Other fossil fuels',\n",
    "                         'CL': 'Hard coal',\n",
    "                         'CP': 'Hard coal',\n",
    "                         'CG': 'Other fossil fuels',\n",
    "                         'GO': 'Oil',\n",
    "                         'LF': 'Oil',\n",
    "                         'LV': 'Oil',\n",
    "                         'CP/BF': 'Mixed fossil fuels',\n",
    "                         'CP/CG': 'Mixed fossil fuels',\n",
    "                         'FA/BF': 'Mixed fossil fuels',\n",
    "                         'NG/BF': 'Mixed fossil fuels',\n",
    "                         'NG': 'Natural gas',\n",
    "                         'NU': 'Nuclear',\n",
    "                         'WR': 'Waste',\n",
    "                         'WA': 'Hydro',\n",
    "                         'WI': 'Wind',\n",
    "                         'WP': 'Biomass and biogas'}\n",
    "data_BE[\"Energy_source\"].replace(dict_energysources_BE, inplace=True)\n",
    "data_BE[\"Energy_source\"].unique()\n",
    "\n",
    "# Check if all energy sources have been translated\n",
    "for fuel in data_BE[\"Energy_source\"].unique():\n",
    "    if (fuel not in dict_energysources_BE.values()) & (str(fuel) != \"nan\"):\n",
    "        logger.error(\"Untranslated fuel type: \" + str(fuel))\n",
    "\n",
    "# Delete unwanted fuels (wind) in column \"fuel\"\n",
    "data_BE = data_BE[data_BE.Energy_source != 'Wind']\n"
   ]
  },
  {
   "cell_type": "markdown",
   "metadata": {},
   "source": [
    "## 7.6 Generate information concerning technology"
   ]
  },
  {
   "cell_type": "markdown",
   "metadata": {},
   "source": [
    "Generation of entries for the column \"Technology\" according to information given in the columns \"Fuel\"."
   ]
  },
  {
   "cell_type": "code",
   "execution_count": null,
   "metadata": {
    "collapsed": false
   },
   "outputs": [],
   "source": [
    "# Set generation technology to 'ST' for \n",
    "# data_BE.loc[data_BE['Technology'].isnull() | (data_BE['Technology'] == 'UNKNOWN'), 'Technology'] = 'ST'\n",
    "\n",
    "# data_BE[data_BE['Technology'].isnull() | (data_BE['Technology'] == 'UNKNOWN')]\n"
   ]
  },
  {
   "cell_type": "markdown",
   "metadata": {},
   "source": [
    "## 7.7 Merger with list containing EIC-codes and geographic coordinates"
   ]
  },
  {
   "cell_type": "code",
   "execution_count": null,
   "metadata": {
    "collapsed": false
   },
   "outputs": [],
   "source": [
    "# Acess the second list with EIC-Codes and geographic coordinates\n",
    "data_BE2_filepath = 'data_processed/EIC_data/data_BE.xlsx'\n",
    "data_BE2 = pd.read_excel(data_BE2_filepath, sheetname='data_BE')\n",
    "\n",
    "# Drop columns of the first list before merger\n",
    "colsToDrop = ['EIC-Code', 'Lat', 'Lon']\n",
    "data_BE = data_BE.drop(colsToDrop, axis=1)\n",
    "\n",
    "# Drop columns of the second list before merger\n",
    "colsToDrop = ['Company', 'Name']\n",
    "data_BE2 = data_BE2.drop(colsToDrop, axis=1)\n",
    "\n",
    "# Merge the lists\n",
    "data_BE = pd.concat([data_BE, data_BE2], axis=1)\n",
    "\n",
    "data_BE.head()\n"
   ]
  },
  {
   "cell_type": "markdown",
   "metadata": {},
   "source": [
    "# 8. The Netherlands"
   ]
  },
  {
   "cell_type": "markdown",
   "metadata": {},
   "source": [
    "## 8.1 Import and merge data"
   ]
  },
  {
   "cell_type": "code",
   "execution_count": null,
   "metadata": {
    "collapsed": false
   },
   "outputs": [],
   "source": [
    "# Check if input works\n",
    "data_NL_Q12015 = importdata('NL', 'Tennet_Q12015')\n",
    "data_NL_Q22015 = importdata('NL', 'Tennet_Q22015')\n",
    "data_NL_Q32015 = importdata('NL', 'Tennet_Q32015')\n",
    "data_NL_Q42015 = importdata('NL', 'Tennet_Q42015')\n",
    "\n",
    "# Append the lists to one list\n",
    "# FRAUKE: Man kann dafür pd.concat(dataframes) verwenden\n",
    "## http://pandas.pydata.org/pandas-docs/stable/merging.html\n",
    "data_NL_Q1_Q22015 = data_NL_Q12015.append(data_NL_Q22015)\n",
    "data_NL_Q1_Q32015 = data_NL_Q1_Q22015.append(data_NL_Q32015)\n",
    "data_NL_Q1_Q42015 = data_NL_Q1_Q32015.append(data_NL_Q42015)\n",
    "\n",
    "# Rename the appended list\n",
    "data_NL = data_NL_Q1_Q42015\n"
   ]
  },
  {
   "cell_type": "markdown",
   "metadata": {},
   "source": [
    "## 8.2 Translate and adjust columns"
   ]
  },
  {
   "cell_type": "markdown",
   "metadata": {},
   "source": [
    "Overall adjustment of all columns within the dataframe. Translation, addition, deletion, merger, sorting of columns as well as adjustment of the column entries' types."
   ]
  },
  {
   "cell_type": "code",
   "execution_count": null,
   "metadata": {
    "collapsed": false
   },
   "outputs": [],
   "source": [
    "# Merge columns \"street\" and \"Number\" to one column called \"Street\"\n",
    "data_NL['Street'] = data_NL[['street', 'Number']].apply(\n",
    "    lambda x: '{} {}'.format(x[0], x[1]), axis=1)\n",
    "\n",
    "# Drop columns not needed anymore\n",
    "colsToDrop = ['Location', 'Date', 'street', 'Number']\n",
    "data_NL = data_NL.drop(colsToDrop, axis=1)\n",
    "\n",
    "# Rename columns\n",
    "dict_columns_NL = {'Connected body': 'Company',\n",
    "                   'Entity': 'Name',\n",
    "                   'Fuel': 'Energy_source',\n",
    "                   'zipcode': 'Postcode',\n",
    "                   'place-name': 'City'}\n",
    "data_NL.rename(columns=dict_columns_NL, inplace=True)\n",
    "\n",
    "# Adjust types of entries in all columns\n",
    "data_NL.Capacity = data_NL.Capacity.astype(float)\n",
    "# data_NL.Commissioned = data_NL.Commissioned.astype(str)\n"
   ]
  },
  {
   "cell_type": "markdown",
   "metadata": {},
   "source": [
    "## 8.3 Translate and adjust types of energy sources"
   ]
  },
  {
   "cell_type": "markdown",
   "metadata": {},
   "source": [
    "Overall translation of all energy sources types mentioned in the column \"Energy_sources\" and subsequent translation check. Generation of entries for the column \"Technology\" according to information given on the column \"Fuel\" by [TenneT](http://www.tennet.org/english/operational_management/system_data_preparation/Reported_production_capacity/Installed_capacity.aspx)."
   ]
  },
  {
   "cell_type": "code",
   "execution_count": null,
   "metadata": {
    "collapsed": false
   },
   "outputs": [],
   "source": [
    "# Rename types of energy sources\n",
    "dict_energysources_NL = {'E01': 'Solar',\n",
    "                         'E02': 'Wind',\n",
    "                         'E03': 'Hydro',\n",
    "                         'E04': 'Biomass and biogas',\n",
    "                         'E05': 'Hard coal',\n",
    "                         'E06': 'Natural gas',\n",
    "                         'E07': 'Oil',\n",
    "                         'E08': 'Nuclear',\n",
    "                         'E09': 'Other fossil fuels'}\n",
    "data_NL[\"Energy_source\"].replace(dict_energysources_NL, inplace=True)\n",
    "data_NL[\"Energy_source\"].unique()\n",
    "# FRAUKE: ich glaub die Zeile macht nichts, oder?\n",
    "\n",
    "data_BE[\"Energy_source\"].replace(dict_energysources_BE, inplace=True)\n",
    "data_BE[\"Energy_source\"].unique()\n",
    "\n",
    "# Check if all energy sources have been translated\n",
    "for fuel in data_NL[\"Energy_source\"].unique():\n",
    "    if (fuel not in dict_energysources_NL.values()) & (str(fuel) != \"nan\"):\n",
    "        logger.error(\"Not renamed fuel type: \" + str(fuel))\n",
    "\n",
    "# Generate technology entry according to fuel\n",
    "data_NL.loc[data_NL['Energy_source'] == 'Nuclear', 'Technology'] = 'Steam turbine'\n",
    "data_NL.loc[data_NL['Energy_source'] == 'Solar', 'Technology'] = 'Differently categorized solar'\n",
    "data_NL.loc[data_NL['Energy_source'] == 'Wind', 'Technology'] = 'Differently categorized wind'\n",
    "\n",
    "# Delete unwanted fuels in column \"fuel\"\n",
    "data_NL = data_NL[data_NL.Energy_source != 'Solar']\n",
    "data_NL = data_NL[data_NL.Energy_source != 'Wind']\n"
   ]
  },
  {
   "cell_type": "markdown",
   "metadata": {},
   "source": [
    "## 8.4 Adjust capacity"
   ]
  },
  {
   "cell_type": "markdown",
   "metadata": {},
   "source": [
    "Adjustment of the capacity entry for the row relating to the power plant named \"Rijnmond II\"."
   ]
  },
  {
   "cell_type": "code",
   "execution_count": null,
   "metadata": {
    "collapsed": false
   },
   "outputs": [],
   "source": [
    "# FRAUKE: Ist das einfach nen Fehler in der Liste?\n",
    "# FRAUKE: nach dem Befehl wird bei mir ne Tabelle ausgegeben mit 2 Spalten mit Zahlen drin\n",
    "## aber ohne header was das ist\n",
    "data_NL.loc[data_NL['Name'] == 'Rijnmond II','Capacity']"
   ]
  },
  {
   "cell_type": "code",
   "execution_count": null,
   "metadata": {
    "collapsed": false
   },
   "outputs": [],
   "source": [
    "# data for power plant 'Rijnmond II' are daily total capacity\n",
    "data_NL['Capacity_new'] = (data_NL['Capacity']/24).where(\n",
    "    data_NL.Name == 'Rijnmond II')\n",
    "data_NL.loc[data_NL['Name'] == 'Rijnmond II', 'Capacity'] = data_NL.loc[\n",
    "    data_NL['Name'] == 'Rijnmond II', 'Capacity_new']\n",
    "data_NL = data_NL.drop(['Capacity_new'], axis=1)\n",
    "\n",
    "# Filter rows by considering \"name\" and maximum \"capacity\n",
    "# data_NL = data_NL[data_NL['Name'] != data_NL['Name'].shift(-1)]\n",
    "data_NL = data_NL.sort_values('Capacity', ascending=False).groupby(\n",
    "    'Name', as_index=False).first()\n",
    "\n",
    "# Apply general template of columns\n",
    "data_NL = data_NL.reindex(columns=columns_sorted)\n",
    "\n",
    "# Check if all columns have been renamed\n",
    "for columnnames in data_NL.columns:\n",
    "    if columnnames not in dict_columns_NL.values():\n",
    "        logger.error(\"Not renamed column: \" + columnnames)\n"
   ]
  },
  {
   "cell_type": "markdown",
   "metadata": {},
   "source": [
    "## 8.5 Merger with list containing EIC-codes and geographic coordinates"
   ]
  },
  {
   "cell_type": "code",
   "execution_count": null,
   "metadata": {
    "collapsed": false
   },
   "outputs": [],
   "source": [
    "# Acess the second list with EIC-Codes and geographic coordinates\n",
    "data_NL2_filepath = 'data_processed/EIC_data/data_NL.xlsx'\n",
    "data_NL2 = pd.read_excel(data_NL2_filepath, sheetname='data_NL')\n",
    "\n",
    "# Drop columns of the first list before merger\n",
    "colsToDrop = ['EIC-Code', 'Lat', 'Lon']\n",
    "data_NL = data_NL.drop(colsToDrop, axis=1)\n",
    "\n",
    "# Drop columns of the second list before merger\n",
    "colsToDrop = ['Company', 'Name']\n",
    "data_NL2 = data_NL2.drop(colsToDrop, axis=1)\n",
    "\n",
    "# Merge the lists\n",
    "data_NL = pd.concat([data_NL, data_NL2], axis=1)\n",
    "\n",
    "data_NL.head()\n"
   ]
  },
  {
   "cell_type": "markdown",
   "metadata": {},
   "source": [
    "# 9. Italy"
   ]
  },
  {
   "cell_type": "markdown",
   "metadata": {},
   "source": [
    "## 9.1 Import data"
   ]
  },
  {
   "cell_type": "code",
   "execution_count": null,
   "metadata": {
    "collapsed": false
   },
   "outputs": [],
   "source": [
    "# Check if input works\n",
    "data_IT = importdata('IT', 'Terna')\n"
   ]
  },
  {
   "cell_type": "markdown",
   "metadata": {},
   "source": [
    "## 9.2 Translate and adjust columns"
   ]
  },
  {
   "cell_type": "markdown",
   "metadata": {},
   "source": [
    "Overall adjustment of all columns within the dataframe. Translation, addition, deletion, sorting of columns as well as adjustment of the column entries' types."
   ]
  },
  {
   "cell_type": "code",
   "execution_count": null,
   "metadata": {
    "collapsed": false
   },
   "outputs": [],
   "source": [
    "# Drop columns not needed anymore\n",
    "colsToDrop = ['CENSIMP',\n",
    "              'Codice di Rintracciabilità',\n",
    "              'Location',\n",
    "              'Voltage connection levels [kV]',\n",
    "              'Zona',\n",
    "              'Regione',\n",
    "              'Provincia']\n",
    "data_IT = data_IT.drop(colsToDrop, axis=1)\n",
    "\n",
    "# Translate columns\n",
    "dict_columns_IT = {'Descrizione Impianto': 'Name',\n",
    "                   'TIPOLOGIA': 'Energy_source',\n",
    "                   'Comune': 'City',\n",
    "                   'PMAX [MW]': 'Capacity',\n",
    "                   'Country': 'Country',\n",
    "                   'Source': 'Source'}\n",
    "data_IT.rename(columns=dict_columns_IT, inplace=True)\n",
    "\n",
    "# Check if all columns have been translated\n",
    "for columnnames in data_IT.columns:\n",
    "    if columnnames not in dict_columns_IT.values():\n",
    "        logger.error(\"Untranslated column: \" + columnnames)\n",
    "\n",
    "# Apply general template of columns\n",
    "data_IT = data_IT.reindex(columns=columns_sorted)\n",
    "\n",
    "# Adjust types of entries in all columns\n",
    "data_IT.Capacity = data_IT.Capacity.astype(float)\n",
    "# data_IT.Commissioned = data_IT.Commissioned.astype(str)\n"
   ]
  },
  {
   "cell_type": "markdown",
   "metadata": {},
   "source": [
    "## 9.3 Translate and adjust types of energy sources"
   ]
  },
  {
   "cell_type": "markdown",
   "metadata": {},
   "source": [
    "Overall translation of all energy source types mentioned in the column \"Energy_sources\" and subsequent translation check. Deletion of rows containing \"wind\" and \"geothermal_power\"as fuel type."
   ]
  },
  {
   "cell_type": "code",
   "execution_count": null,
   "metadata": {
    "collapsed": false
   },
   "outputs": [],
   "source": [
    "# Translate types of energy sources\n",
    "dict_energysources_IT = {'GEOTERMICO': 'geothermal',\n",
    "                         'TERMOELETTRICO': 'conventional',\n",
    "                         'IDROELETTRICO': 'Hydro',\n",
    "                         'EOLICO': 'Wind'}\n",
    "data_IT[\"Energy_source\"].replace(dict_energysources_IT, inplace=True)\n",
    "data_IT[\"Energy_source\"].unique()\n",
    "\n",
    "# Check if all energy sources have been translated\n",
    "for fuel in data_IT[\"Energy_source\"].unique():\n",
    "    if (fuel not in dict_energysources_IT.values()) & (str(fuel) != \"nan\"):\n",
    "        logger.error(\"Untranslated fuel type: \" + str(fuel))\n",
    "\n",
    "# Generate technology entries according to fuels\n",
    "data_IT.loc[data_IT['Energy_source'] == 'Hydro', 'Technology'] = 'Differently categorized hydro'\n",
    "\n",
    "# Delete unwanted fuels (wind & geothermal power) in column \"fuel\"\n",
    "data_IT = data_IT[data_IT.Energy_source != 'Wind']\n",
    "data_IT = data_IT[data_IT.Energy_source != 'geothermal']\n",
    "\n",
    "data_IT.head()\n"
   ]
  },
  {
   "cell_type": "markdown",
   "metadata": {},
   "source": [
    "## 9.4 Merger with list containing EIC-codes and geographic coordinates"
   ]
  },
  {
   "cell_type": "code",
   "execution_count": null,
   "metadata": {
    "collapsed": true
   },
   "outputs": [],
   "source": []
  },
  {
   "cell_type": "markdown",
   "metadata": {},
   "source": [
    "# 10. France"
   ]
  },
  {
   "cell_type": "markdown",
   "metadata": {},
   "source": [
    "## 10.1 Import data"
   ]
  },
  {
   "cell_type": "code",
   "execution_count": null,
   "metadata": {
    "collapsed": true
   },
   "outputs": [],
   "source": [
    "# Check if input works\n",
    "data_FR = importdata('FR', 'RTE')\n"
   ]
  },
  {
   "cell_type": "markdown",
   "metadata": {},
   "source": [
    "## 10.2 Translate and adjust columns"
   ]
  },
  {
   "cell_type": "markdown",
   "metadata": {},
   "source": [
    "Overall adjustment of all columns within the dataframe. Translation, addition, deletion, sorting of columns as well as adjustment of the column entries' types."
   ]
  },
  {
   "cell_type": "code",
   "execution_count": null,
   "metadata": {
    "collapsed": false
   },
   "outputs": [],
   "source": [
    "# Drop columns not needed anymore\n",
    "colsToDrop = ['Niveau de tension de connexion (KVT)',\n",
    "              'Date de suppression',\n",
    "              'Localisation']\n",
    "data_FR = data_FR.drop(colsToDrop, axis=1)\n",
    "\n",
    "# Translate columns\n",
    "dict_columns_FR = {'Type': 'Energy_source',\n",
    "                   'Nom de la centrale de production': 'Name',\n",
    "                   'Capacité de production Installée (MW)': 'Capacity',\n",
    "                   'Date de création': 'Commissioned',\n",
    "                   'Country': 'Country',\n",
    "                   'Source': 'Source'}\n",
    "data_FR.rename(columns=dict_columns_FR, inplace=True)\n",
    "\n",
    "# Check if all columns have been translated\n",
    "for columnnames in data_FR.columns:\n",
    "    if columnnames not in dict_columns_FR.values():\n",
    "        logger.error(\"Untranslated column: \" + columnnames)\n",
    "\n",
    "# Apply general template of columns\n",
    "data_FR = data_FR.reindex(columns=columns_sorted)\n",
    "\n",
    "# Delete unwanted row by referring to column \"Name\"\n",
    "data_FR = data_FR.dropna(subset=['Name'])\n",
    "\n",
    "# Delete place holder datetime\n",
    "dict_date_FR = {'01/01/2000': 'NaN'}\n",
    "data_FR[\"Commissioned\"].replace(dict_date_FR, inplace=True)\n",
    "data_FR[\"Commissioned\"].unique()\n",
    "\n",
    "# Define commissioning year\n",
    "# data_FR['Commissioned'][data_FR['Commissioned'] == '01/01/2000'] = np.nan\n",
    "data_FR['Commissioned'] = pd.to_datetime(\n",
    "    data_FR['Commissioned'], format='%d/%m/%Y')\n",
    "data_FR['Commissioned'] = pd.DatetimeIndex(\n",
    "    data_FR['Commissioned']).year\n",
    "\n",
    "# Adjust types of entries in all columns\n",
    "data_FR.Capacity = data_FR.Capacity.astype(float)\n",
    "# data_FR.Commissioned = data_FR.Commissioned.astype(int)\n",
    "\n",
    "# print(data_FR.Commissioned)\n"
   ]
  },
  {
   "cell_type": "markdown",
   "metadata": {},
   "source": [
    "## 10.3 Translate energy sources and generate technologies"
   ]
  },
  {
   "cell_type": "markdown",
   "metadata": {},
   "source": [
    "Generation of entries for technologies. Overall translation of all fuel types mentioned in the column \"Energy_sources\" and subsequent translation check."
   ]
  },
  {
   "cell_type": "code",
   "execution_count": null,
   "metadata": {
    "collapsed": false
   },
   "outputs": [],
   "source": [
    "# Generate technology entries according to energy sources\n",
    "data_FR.loc[data_FR['Energy_source'] == 'Hydraulique STEP', 'Technology'] = 'Pumped storage'\n",
    "data_FR.loc[data_FR[\n",
    "    'Energy_source'] == '''Hydraulique fil de l'eau / éclusée''', 'Technology'] = 'Run-of-river'\n",
    "data_FR.loc[data_FR['Energy_source'] == 'Hydraulique lacs', 'Technology'] = 'Reservoir'\n",
    "data_FR.loc[data_FR['Energy_source'] == 'Nucléaire', 'Technology'] = 'Steam turbine'\n",
    "data_FR.loc[data_FR['Energy_source'] == 'Marin', 'Technology'] = 'Differently categorized hydro'\n",
    "data_FR.loc[data_FR['Energy_source'] == 'Charbon', 'Technology'] = 'Steam turbine'\n",
    "# data_FR.loc[data_FR['Fuel'] == 'Gaz','Technology'] = 'UNKNOWN'\n",
    "# data_FR.loc[data_FR['Fuel'] == 'Fioul','Technology'] = 'UNKNOWN'\n",
    "\n",
    "# Translate types of energy sources\n",
    "dict_energysources_FR = {'Autre': 'Other fossil fuels',\n",
    "                         'Charbon': 'Hard coal',\n",
    "                         'Fioul': 'Oil',\n",
    "                         'Gaz': 'Natural gas',\n",
    "                         'Hydraulique STEP': 'Hydro',\n",
    "                         '''Hydraulique fil de l'eau / éclusée''': 'Hydro',\n",
    "                         'Hydraulique lacs': 'Hydro',\n",
    "                         'Marin': 'Hydro',\n",
    "                         'Nucléaire': 'Nuclear',\n",
    "                         'Biomasse': 'Biomass and biogas'}\n",
    "data_FR[\"Energy_source\"].replace(dict_energysources_FR, inplace=True)\n",
    "data_FR[\"Energy_source\"].unique()\n",
    "\n",
    "# Check if all energy sources have been translated\n",
    "for fuel in data_FR[\"Energy_source\"].unique():\n",
    "    if (fuel not in dict_energysources_FR.values()) & (str(fuel) != \"nan\"):\n",
    "        logger.error(\"Untranslated fuel type: \" + str(fuel))\n"
    "        \n",
    "data_FR.head()\n",
    "# FRAUKE: Biomasse, hydro und Tidal bleibt drin in der Liste?"
   ]
  },
  {
   "cell_type": "markdown",
   "metadata": {},
   "source": [
    "## 10.4 Merger with list containing EIC-codes and geographic coordinates"
   ]
  },
  {
   "cell_type": "code",
   "execution_count": null,
   "metadata": {
    "collapsed": false
   },
   "outputs": [],
   "source": [
    "# Acess the second list with EIC-Codes and geographic coordinates\n",
    "data_FR2_filepath = 'data_processed/EIC_data/data_FR.xlsx'\n",
    "data_FR2 = pd.read_excel(data_FR2_filepath, sheetname='data_FR')\n",
    "\n",
    "# Drop columns of the first list before merger\n",
    "colsToDrop = ['EIC-Code', 'Lat', 'Lon']\n",
    "data_FR = data_FR.drop(colsToDrop, axis=1)\n",
    "\n",
    "# Drop columns of the second list before merger\n",
    "colsToDrop = ['Company', 'Name']\n",
    "data_FR2 = data_FR2.drop(colsToDrop, axis=1)\n",
    "\n",
    "# Merge the lists\n",
    "data_FR = pd.concat([data_FR, data_FR2], axis=1)\n",
    "\n",
    "data_FR.head()\n"
   ]
  },
  {
   "cell_type": "markdown",
   "metadata": {},
   "source": [
    "# 11. Finland"
   ]
  },
  {
   "cell_type": "markdown",
   "metadata": {},
   "source": [
    "## 11.1 Import data"
   ]
  },
  {
   "cell_type": "code",
   "execution_count": null,
   "metadata": {
    "collapsed": false
   },
   "outputs": [],
   "source": [
    "# Check if input works\n",
    "# FRAUKE: Ach so, wenn es danah nochmal ausgegeben wird macht der Kommentar Sinn\n",
    "data_FI = importdata('FI','EnergyAuthority')\n",
    "data_FI.head()"
   ]
  },
  {
   "cell_type": "markdown",
   "metadata": {},
   "source": [
    "## 11.2 Translate and adjust columns"
   ]
  },
  {
   "cell_type": "markdown",
   "metadata": {},
   "source": [
    "Overall adjustment of all columns within the dataframe. Translation, addition, deletion, sorting of columns as well as adjustment of the column entries' types."
   ]
  },
  {
   "cell_type": "code",
   "execution_count": null,
   "metadata": {
    "collapsed": false
   },
   "outputs": [],
   "source": [
    "# Generate entries in column \"CHP\"\n",
    "data_FI['CHP'] = 'No'\n",
    "data_FI.loc[data_FI[\n",
    "    'Combined Heat and Power Production, Industry,Maximum, Total, MW'] > 0,\n",
    "    'CHP'] = 'Yes'\n",
    "data_FI.loc[data_FI[\n",
    "    'Combined Heat and Power Production, District Heating, Total, MW'] > 0,\n",
    "    'CHP'] = 'Yes'\n",
    "\n",
    "# Drop columns not needed anymore\n",
    "colsToDrop = ['Business ID',\n",
    "              'Location',\n",
    "              'Separate power production, Maximum, Hour, MW',\n",
    "              'Separate power production, Decomissioned, Hour, MW',\n",
    "              'Combined Heat and Power Production, Industry,Maximum, Total, MW',\n",
    "              'Combined Heat and Power Production, Industry,Hour, Total, MW',\n",
    "              'Combined Heat and Power Production, Industry, Decomissioned, Total, MW',\n",
    "              'Combined Heat and Power Production, District Heating, Total, MW',\n",
    "              'Combined Heat and Power Production, District Heating, Hour, MW',\n",
    "              'Combined Heat and Power Production, District Heating, Decomissioned, Total, MW',\n",
    "              'Separate power production, Maximum, Total, MW',\n",
    "              'Hour, total, MW',\n",
    "              'Decomissioned, Total, MW',\n",
    "              'Standby fuel ',\n",
    "              'Standby fuel']\n",
    "data_FI = data_FI.drop(colsToDrop, axis=1)\n",
    "\n",
    "# Rename columns\n",
    "dict_columns_FI = {'Name': 'Name',\n",
    "                   'Company': 'Company',\n",
    "                   'Type': 'Type',\n",
    "                   'Address': 'Street',\n",
    "                   'Town': 'City',\n",
    "                   'Postal code': 'Postcode',\n",
    "                   'Maximum, total, MW': 'Capacity',\n",
    "                   'Main fuel': 'Energy_source',\n",
    "                   'Country': 'Country',\n",
    "                   'Source': 'Source'}\n",
    "data_FI.rename(columns=dict_columns_FI, inplace=True)\n",
    "\n",
    "# Check if all columns have been renamed\n",
    "for columnnames in data_FI.columns:\n",
    "    if columnnames not in dict_columns_FI.values():\n",
    "        logger.error(\"Not renamed column: \" + columnnames)\n",
    "\n",
    "# Apply general template of columns\n",
    "data_FI = data_FI.reindex(columns=columns_sorted)\n",
    "\n",
    "# Adjust types of entries in all columns\n",
    "data_FI.Capacity = data_FI.Capacity.astype(float)\n",
    "# data_FI.Commissioned = data_FI.Commissioned.astype(str)\n"
   ]
  },
  {
   "cell_type": "markdown",
   "metadata": {},
   "source": [
    "## 11.3 Translate and adjust types of energy sources"
   ]
  },
  {
   "cell_type": "markdown",
   "metadata": {},
   "source": [
    "Overall translation of all energy sources types mentioned in the column \"Energy_sources\" and subsequent translation check. Generation of entries for the column \"Energy_scoures\" according to information given in the column \"Type\"."
   ]
  },
  {
   "cell_type": "code",
   "execution_count": null,
   "metadata": {
    "collapsed": false
   },
   "outputs": [],
   "source": [
    "# Rename types of energy sources\n",
    "dict_energysources_FI = {'Biogas': 'Biomass and biogas',\n",
    "                         'Black liquor and concentrated liquors': 'Biomass and biogas',\n",
    "                         'Blast furnace gas': 'Other fossil fuels',\n",
    "                         'By-products from wood processing industry': 'Biomass and biogas',\n",
    "                         'Exothermic heat from industry': 'heat',\n",
    "                         'Forest fuelwood': 'Biomass and biogas',\n",
    "                         'Gasified waste': 'Waste',\n",
    "                         'Hard coal and anthracite': 'Hard coal',\n",
    "                         'Heavy distillates': 'Oil',\n",
    "                         'Industrial wood residues': 'Biomass and biogas',\n",
    "                         'Light distillates': 'Oil',\n",
    "                         'Medium heavy distillates': 'Oil',\n",
    "                         'Mixed fuels': 'Mixed fossil fuels',\n",
    "                         'Natural gas': 'Natural gas',\n",
    "                         'Nuclear energy': 'Nuclear',\n",
    "                         'Other by-products and wastes used as fuel': 'Other fossil fuels',\n",
    "                         'Other non-specified energy sources': 'Other fossil fuels',\n",
    "                         'Peat': 'Biomass and biogas',\n",
    "                         ' ': 'UNKNOWN'}\n",
    "data_FI[\"Energy_source\"].replace(dict_energysources_FI, inplace=True)\n",
    "data_FI[\"Energy_source\"].unique()\n",
    "\n",
    "# Check if all energy sources have been translated\n",
    "for fuel in data_FI[\"Energy_source\"].unique():\n",
    "    if (fuel not in dict_energysources_FI.values()) & (str(fuel) != \"nan\"):\n",
    "        logger.error(\"Not renamed fuel type: \" + str(fuel))\n",
    "\n",
    "# Generate entries in column \"Energy_sources\" for hydro and wind stations according to column \"type\"\n",
    "data_FI.loc[data_FI['Type'] == 'Hydro power', 'Energy_source'] = 'Hydro'\n",
    "data_FI.loc[data_FI['Type'] == 'Wind power', 'Energy_source'] = 'Wind'\n"
   ]
  },
  {
   "cell_type": "markdown",
   "metadata": {},
   "source": [
    "## 11.4 Generate technology types"
   ]
  },
  {
   "cell_type": "markdown",
   "metadata": {},
   "source": [
    "Generation of entries for the column \"Technology\" according to information given in the column \"Energy_source\". Deletion of rows containing \"wind\" as fuel type."
   ]
  },
  {
   "cell_type": "code",
   "execution_count": null,
   "metadata": {
    "collapsed": false
   },
   "outputs": [],
   "source": [
    "# Generate entries in column \"technology\" according to column \"Energy_source\"\n",
    "data_FI.loc[data_FI['Energy_source'] == 'Hydro', 'Technology'] = 'Differently categorized hydro'\n",
    "data_FI.loc[data_FI['Energy_source'] == 'Nuclear', 'Technology'] = 'Steam turbine'\n",
    "data_FI.loc[data_FI['Energy_source'] == 'Hard coal', 'Technology'] = 'Steam turbine'\n",
    "data_FI.loc[data_FI['Energy_source'] == 'Wind', 'Technology'] = 'Differently categorized wind'\n",
    "\n",
    "# Delete unwanted fuel (wind) in column \"fuel\"\n",
    "data_FI = data_FI[data_FI.Energy_source != 'Wind']\n"
   ]
  },
  {
   "cell_type": "markdown",
   "metadata": {},
   "source": [
    "## 11.5 Translate and adjust types"
   ]
  },
  {
   "cell_type": "markdown",
   "metadata": {},
   "source": [
    "Overall translation of all types mentioned in the column \"Type\" and subsequent translation check."
   ]
  },
  {
   "cell_type": "code",
   "execution_count": null,
   "metadata": {
    "collapsed": false
   },
   "outputs": [],
   "source": [
    "# Rename types\n",
    "dict_types_FI = {'District heating CHP': 'CHP',\n",
    "                 'Hydro power': '',\n",
    "                 'Industry CHP': 'IPP',\n",
    "                 'Nuclear energy': '',\n",
    "                 'Separate electricity production': '',\n",
    "                 'Wind power': ''}\n",
    "data_FI[\"Type\"].replace(dict_types_FI, inplace=True)\n",
    "data_FI[\"Type\"].unique()\n",
    "\n",
    "# Check if all types have been translated\n",
    "for fuel in data_FI[\"Type\"].unique():\n",
    "    if (fuel not in dict_types_FI.values()) & (str(fuel) != \"nan\"):\n",
    "        logger.error(\"Not renamed type: \" + str(fuel))\n"
   ]
  },
  {
   "cell_type": "markdown",
   "metadata": {},
   "source": [
    "## 11.6 Merger with list containing EIC-codes and geographic coordinates"
   ]
  },
  {
   "cell_type": "code",
   "execution_count": null,
   "metadata": {
    "collapsed": false
   },
   "outputs": [],
   "source": [
    "# Acess the second list with EIC-Codes and geographic coordinates\n",
    "data_FI2_filepath = 'data_processed/EIC_data/data_FI.xlsx'\n",
    "data_FI2 = pd.read_excel(data_FI2_filepath, sheetname='data_FI')\n",
    "\n",
    "# Drop columns of the first list before merger\n",
    "colsToDrop = ['EIC-Code', 'Lat', 'Lon']\n",
    "data_FI = data_FI.drop(colsToDrop, axis=1)\n",
    "\n",
    "# Drop columns of the second list before merger\n",
    "colsToDrop = ['Company', 'Name']\n",
    "data_FI2 = data_FI2.drop(colsToDrop, axis=1)\n",
    "\n",
    "# Merge the lists\n",
    "data_FI = pd.concat([data_FI, data_FI2], axis=1)\n",
    "\n",
    "data_FI.head()\n"
   ]
  },
  {
   "cell_type": "markdown",
   "metadata": {},
   "source": [
    "# 12. Poland"
   ]
  },
  {
   "cell_type": "markdown",
   "metadata": {},
   "source": [
    "## 12.1 Import data"
   ]
  },
  {
   "cell_type": "code",
   "execution_count": null,
   "metadata": {
    "collapsed": false
   },
   "outputs": [],
   "source": [
    "# Check if input works\n",
    "data_PL = importdata('PL','GPI')"
   ]
  },
  {
   "cell_type": "markdown",
   "metadata": {},
   "source": [
    "## 12.2 Translate and adjust columns"
   ]
  },
  {
   "cell_type": "markdown",
   "metadata": {},
   "source": [
    "Overall adjustment of all columns within the dataframe. Translation, completion, addition, deletion, sorting of columns as well as adjustment of the column entries' types."
   ]
  },
  {
   "cell_type": "code",
   "execution_count": null,
   "metadata": {
    "collapsed": false
   },
   "outputs": [],
   "source": [
    "# Rename first column\n",
    "data_PL.columns.values[0] = 'Company'\n",
    "\n",
    "# Rename columns\n",
    "dict_columns_PL = {'Company': 'Company',\n",
    "                   'Generating unit name': 'Name',\n",
    "                   'Comments': 'Comment',\n",
    "                   'Available capacity [MW]': 'Capacity',\n",
    "                   'Basic fuel': 'Energy_source',\n",
    "                   'Country': 'Country',\n",
    "                   'Source': 'Source'}\n",
    "data_PL.rename(columns=dict_columns_PL, inplace=True)\n",
    "\n",
    "# Check if all columns have been renamed\n",
    "for columnnames in data_PL.columns:\n",
    "    if columnnames not in dict_columns_PL.values():\n",
    "        logger.error(\"Not renamed column: \" + columnnames)\n",
    "\n",
    "# Fill columns \"Energy_source\" and \"company\" with the belonging entries\n",
    "cols = ['Energy_source', 'Company']\n",
    "data_PL[cols] = data_PL[cols].ffill()\n",
    "\n",
    "# Delete empty and therefore unwanted rows by referring to column \"Generating unit code\"\n",
    "data_PL = data_PL.dropna(subset=['Generating unit code'])\n",
    "\n",
    "# Apply general template of columns\n",
    "data_PL = data_PL.reindex(columns=columns_sorted)\n",
    "\n",
    "# Drop columns not needed anymore\n",
    "colsToDrop = ['EIC-Code',\n",
    "              'Lat',\n",
    "              'Lon']\n",
    "data_PL = data_PL.drop(colsToDrop, axis=1)\n",
    "\n",
    "# Adjust types of entries in all columns\n",
    "data_PL.Capacity = data_PL.Capacity.astype(float)\n",
    "# data_PL.Commissioned = data_PL.Commissioned.astype(str)\n"
   ]
  },
  {
   "cell_type": "markdown",
   "metadata": {},
   "source": [
    "## 12.3 Translate and adjust types of energy sources"
   ]
  },
  {
   "cell_type": "markdown",
   "metadata": {},
   "source": [
    "Overall translation of all fuel types mentioned in the column \"Energy_sources\" and subsequent translation check."
   ]
  },
  {
   "cell_type": "code",
   "execution_count": null,
   "metadata": {
    "collapsed": false
   },
   "outputs": [],
   "source": [
    "# Rename energy sources types\n",
    "dict_energysources_PL = {'Brown coal': 'Lignite',\n",
    "                         'Black coal': 'Hard coal',\n",
    "                         'Water': 'Hydro'}\n",
    "data_PL[\"Energy_source\"].replace(dict_fuels_PL, inplace=True)\n",
    "data_PL[\"Energy_source\"].unique()\n",
    "\n",
    "# Check if all fuels have been translated\n",
    "for fuel in data_PL[\"Energy_source\"].unique():\n",
    "    # Jan: not in, soll hier ein logisches oder bitwise UND stehen?\n",
    "    if (fuel not in dict_fuels_PL.values()) & (str(fuel) != \"nan\"):\n",
    "        logger.error(\"Not renamed fuel type: \" + str(fuel))\n"
   ]
  },
  {
   "cell_type": "markdown",
   "metadata": {},
   "source": [
    "## 12.4 Generate technology types"
   ]
  },
  {
   "cell_type": "markdown",
   "metadata": {},
   "source": [
    "Generation of entries for the column \"Technology\" according to information given in the column \"Fuel\"."
   ]
  },
  {
   "cell_type": "code",
   "execution_count": null,
   "metadata": {
    "collapsed": false
   },
   "outputs": [],
   "source": [
    "# Generate entries in column \"technology\" according to fuel \"hydro\"\n",
    "data_PL.loc[data_PL['Energy_source'] == 'Hydro', 'Technology'] = 'Pumped storage'\n"
   ]
  },
  {
   "cell_type": "markdown",
   "metadata": {},
   "source": [
    "## 12.5 Merger with list containing EIC-codes, geographic coordinates and further power plants"
   ]
  },
  {
   "cell_type": "code",
   "execution_count": null,
   "metadata": {
    "collapsed": false
   },
   "outputs": [],
   "source": [
    "# FRAUKE: Kurze Erklärung woher diese zweite Liste kommt wäre gut und ob und woher ihr\n",
    "## dass die Kraftwerke nicht doppelt sind\n",
    "# Access the second list\n",
    "data_PL2_filepath = 'data_processed/Further_Lists/data_PL_2.xlsx'\n",
    "data_PL2 = pd.read_excel(data_PL2_filepath, sheetname= 'pp_list_PL2')\n",
    "\n",
    "# Drop columns of the second list before merger\n",
    "colsToDrop = ['Company', 'Name']\n",
    "data_PL2 = data_PL2.drop(colsToDrop, axis=1)\n",
    "\n",
    "# Merge the lists\n",
    "data_PL = pd.concat([data_PL, data_PL2], axis=1)\n",
    "\n",
    "# Access the third list with additional power plants\n",
    "data_PL3_filepath = 'data_processed/Further_Lists/data_PL_2.xlsx'\n",
    "data_PL3 = pd.read_excel(data_PL3_filepath, sheetname='pp_list_PL2')\n",
    "\n",
    "# Merge the lists\n",
    "data_PL = data_PL.append(data_PL3)\n",
    "\n",
    "data_PL.head()\n"
   ]
  },
  {
   "cell_type": "markdown",
   "metadata": {},
   "source": [
    "# 13. Spain"
   ]
  },
  {
   "cell_type": "markdown",
   "metadata": {},
   "source": [
    "## 13.1 Import data"
   ]
  },
  {
   "cell_type": "code",
   "execution_count": null,
   "metadata": {
    "collapsed": false
   },
   "outputs": [],
   "source": [
    "# FRAUKE: Bekomme Warnmeldung: olumns (13) have mixed types. Specify dtype option on import or set low_memory=False.\n",
    "# Check if input works\n",
    "data_ES = importdata('ES', 'SEDE')\n"
   ]
  },
  {
   "cell_type": "code",
   "execution_count": null,
   "metadata": {
    "collapsed": false
   },
   "outputs": [],
   "source": [
    "len(data_ES)"
   ]
  },
  {
   "cell_type": "markdown",
   "metadata": {},
   "source": [
    "## 13.2 Translate and adjust columns"
   ]
  },
  {
   "cell_type": "markdown",
   "metadata": {},
   "source": [
    "TODO: Decision, which of both columns \"Net_Capacity\" and \"Capacity\" will be dropped, has to be taken.\n",
    "\n",
    "Overall adjustment of all columns within the dataframe. Translation, addition, deletion, sorting of columns as well as adjustment of the column entries' types. Adjustment of the entries' units from kW to MW in the columns \"Net_Capacity\" and \"Capacity\"."
   ]
  },
  {
   "cell_type": "code",
   "execution_count": null,
   "metadata": {
    "collapsed": false,
    "scrolled": false
   },
   "outputs": [],
   "source": [
    "# Delete unwanted regions\n",
    "data_ES = data_ES[data_ES.Autonomia != 'Ceuta']\n",
    "data_ES = data_ES[data_ES.Autonomia != 'Melilla']\n",
    "data_ES = data_ES[data_ES.Autonomia != 'Canarias']\n",
    "data_ES = data_ES[data_ES.Autonomia != 'Baleares']\n",
    "\n",
    "# Delete unwanted fuels\n",
    "data_ES = data_ES[data_ES.Tecnologia != 'Fotovoltaica']\n",
    "\n",
    "# Drop columns not needed anymore\n",
    "colsToDrop = ['N. Orden',\n",
    "              'Tipo Regimen',\n",
    "              'Autonomia',\n",
    "              'Provincia',\n",
    "              'F. Alta',\n",
    "              'F. Baja',\n",
    "              'F. Alta Provicional',\n",
    "              'Alta Registro']\n",
    "data_ES = data_ES.drop(colsToDrop, axis=1)\n",
    "\n",
    "# Rename columns\n",
    "dict_columns_ES = {'Titular': 'Company',\n",
    "                   'Nombre de la instalacion': 'Name',\n",
    "                   'Municipio': 'City',\n",
    "                   'Tecnologia': 'Technology',\n",
    "                   'Comment': 'Comment',\n",
    "                   'Potencia Neta': 'Net_Capacity',\n",
    "                   'Potencia Bruta': 'Capacity',\n",
    "                   'Combustible': 'Energy_source',\n",
    "                   'F. Puesta En Servicio': 'Commissioned',\n",
    "                   'Country': 'Country',\n",
    "                   'Source': 'Source'}\n",
    "data_ES.rename(columns=dict_columns_ES, inplace=True)\n",
    "\n",
    "# Check if all columns have been renamed\n",
    "for columnnames in data_ES.columns:\n",
    "    if columnnames not in dict_columns_ES.values():\n",
    "        logger.error(\"Not renamed column: \" + columnnames)\n",
    "\n",
    "# Apply general template of columns\n",
    "data_ES = data_ES.reindex(columns=columns_sorted)\n",
    "\n",
    "# Change unit of column 'net_capacity' from kW to MW\n",
    "# data_ES.Net_Capacity = data_ES.Net_Capacity.astype(float)\n",
    "# data_ES['Net_Capacity'] = (data_ES['Net_Capacity']/1000)\n",
    "\n",
    "# Change unit of column 'capacity' from kW to MW\n",
    "data_ES.Capacity = data_ES.Capacity.astype(float)\n",
    "data_ES['Capacity'] = (data_ES['Capacity']/1000)\n",
    "\n",
    "# Define commissioning year\n",
    "data_ES['Commissioned'] = pd.to_datetime(\n",
    "    data_ES['Commissioned'], format='%d/%m/%Y')\n",
    "data_ES['Commissioned'] = pd.DatetimeIndex(\n",
    "    data_ES['Commissioned']).year\n",
    "\n",
    "#Adjust types of entries in all columns\n",
    "# FRAUKE: Könnte man das nicht mit einem Befehl machen?\n",
    "data_ES.Company = data_ES.Company.astype(str)\n",
    "data_ES.Name = data_ES.Name.astype(str)\n",
    "data_ES.Street = data_ES.Street.astype(str)\n",
    "data_ES.Postcode = data_ES.Postcode.astype(str)\n",
    "data_ES.City = data_ES.City.astype(str)\n",
    "data_ES.Country = data_ES.Country.astype(str)\n",
    "data_ES.Fuel = data_ES.Fuel.astype(str)\n",
    "data_ES.Technology = data_ES.Technology.astype(str)\n",
    "data_ES.Type = data_ES.Type.astype(str)\n",
    "data_ES.CHP = data_ES.CHP.astype(str)\n",
    "data_ES.Commissioned = data_ES.Commissioned.astype(str)\n",
    "data_ES.Comment = data_ES.Comment.astype(str)\n",
    "data_ES.Source = data_ES.Source.astype(str)"
   ]
  },
  {
   "cell_type": "markdown",
   "metadata": {},
   "source": [
    "## 13.3 Translate and adjust fuel types"
   ]
  },
  {
   "cell_type": "markdown",
   "metadata": {},
   "source": [
    "Overall translation of all fuel types mentioned in the column \"Fuel\" and subsequent translation check."
   ]
  },
  {
   "cell_type": "code",
   "execution_count": null,
   "metadata": {
    "collapsed": false
   },
   "outputs": [],
   "source": [
    "dict_fuels_ES = {'Biocombustibles liquidos': 'Biomass and biogas',\n",
    "                 'Biogas': 'Biomass and biogas',\n",
    "                 'Biogas de digestion': 'Biomass and biogas',\n",
    "                 'Biogas de vertedero': 'Biomass and biogas',\n",
    "                 'Biomasa industrial agricola': 'Biomass and biogas',\n",
    "                 'Biomasa industrial forestal': 'Biomass and biogas',\n",
    "                 'Biomasa primaria': 'Biomass and biogas',\n",
    "                 'Calor residual': 'UNKNOWN',\n",
    "                 'Carbon': 'Hard coal',\n",
    "                 'CARBON IMPORTADO': 'Hard coal',\n",
    "                 'Cultivos energeticos agricolas o forestales': 'Biomass and biogas',\n",
    "                 'DIESEL': 'Oil',\n",
    "                 'Energias residuales': 'UNKNOWN',\n",
    "                 'Fuel': 'Oil',\n",
    "                 'FUEL-OIL 0,3': 'Oil',\n",
    "                 'FUELOLEO': 'Oil',\n",
    "                 'GAS DE REFINERIA': 'Natural gas',\n",
    "                 'Gas natural': 'Natural gas',\n",
    "                 'GAS NATURAL': 'Natural gas',\n",
    "                 'Gas residual': 'Natural gas',\n",
    "                 'Gasoleo': 'Natural gas',\n",
    "                 'GASOLEO': 'Natural gas',\n",
    "                 'HULLA+ANTRACITA': 'Hard coal',\n",
    "                 'Licores negros': 'Biomass and biogas',\n",
    "                 'LIGNITO NEGRO': 'Lignite',\n",
    "                 'LIGNITO PARDO': 'Lignite',\n",
    "                 'NUCLEAR': 'Nuclear',\n",
    "                 'Propano': 'Natural gas',\n",
    "                 'Residuo aprovechamiento forestal o selvicola': 'Waste',\n",
    "                 'Residuos': 'Waste',\n",
    "                 'Residuos actividad agricolas o jardineria': 'Waste',\n",
    "                 'Residuos industriales': 'Waste',\n",
    "                 'Residuos solidos urbanos': 'Waste',\n",
    "                 'RESIDUOS SOLIDOS URBANOS': 'Waste',\n",
    "                 ' ': 'UNKNOWN'}\n",
    "data_ES[\"Energy_source\"].replace(dict_fuels_ES, inplace=True)\n",
    "data_ES[\"Energy_source\"].unique()\n",
    "\n",
    "# Check if all fuels have been translated\n",
    "for fuel in data_ES[\"Energy_source\"].unique():\n",
    "    if (fuel not in dict_fuels_ES.values()) & (str(fuel) != \"nan\"):\n",
    "        logger.error(\"Not renamed fuel type: \" + str(fuel))\n",
    "\n",
    "# Generate entries in column \"technology\" according to fuel \"Eolica terrestre\"\n",
    "data_ES.loc[data_ES['Technology'] == 'Eolica terrestre', 'Energy_source'] = 'Wind'\n"
   ]
  },
  {
   "cell_type": "markdown",
   "metadata": {},
   "source": [
    "## 13.4 Translate and adjust technology types"
   ]
  },
  {
   "cell_type": "markdown",
   "metadata": {},
   "source": [
    "TODO: \n",
    "- Open question on meaning of technology \"cogeneratcion\" (CCGT or CHP?)\n",
    "- Exlcude power plants at Baleares, Canarias, Melilla, and Ceuta\n",
    "\n",
    "Overall translation of all technology types mentioned in the column \"Technology\" and subsequent translation check."
   ]
  },
  {
   "cell_type": "code",
   "execution_count": null,
   "metadata": {
    "collapsed": false
   },
   "outputs": [],
   "source": [
    "dict_technologies_ES = {'Cogeneracion': 'Combined cycle',\n",
    "                        'Eolica terrestre': 'Onshore',\n",
    "                        'Hidraulica fluyente': 'Run-of-river',\n",
    "                        'Hidraulica': 'Run-of-river',\n",
    "                        'Termonuclear': 'Steam turbine',\n",
    "                        'Turbina de gas': 'Gas turbine',\n",
    "                        ' ': 'UNKNOWN'}\n",
    "data_ES[\"Technology\"].replace(dict_technologies_ES, inplace=True)\n",
    "data_ES[\"Technology\"].unique()\n",
    "\n",
    "# Check if all technologies have been translated\n",
    "for fuel in data_ES[\"Technology\"].unique():\n",
    "    if (fuel not in dict_technologies_ES.values()) & (str(fuel) != \"nan\"):\n",
    "        logger.error(\"Untranslated technology: \" + str(fuel))\n",
    "\n",
    "# Delete unwanted fuels\n",
    "data_ES = data_ES[data_ES.Technology != 'Onshore']\n"
   ]
  },
  {
   "cell_type": "markdown",
   "metadata": {},
   "source": [
    "## 13.5 Generate and adjust fuel types"
   ]
  },
  {
   "cell_type": "markdown",
   "metadata": {},
   "source": [
    "Generation of entries for the column \"Fuel\" according to information given in the column \"Technology\". Deletion of rows containing \"wind\" and \"solar\" as fuel type."
   ]
  },
  {
   "cell_type": "code",
   "execution_count": null,
   "metadata": {
    "collapsed": false
   },
   "outputs": [],
   "source": [
    "# Generate entries in column \"fuel\" for hydro, wind and solar stations according to column \"technology\"\n",
    "#data_ES.loc[data_ES['Technology'] == 'hydro_plant', 'Energy_source'] = 'Hydro'\n",
    "data_ES.loc[data_ES['Technology'] == 'Run-of-river', 'Energy_source'] = 'Hydro'\n"
   ]
  },
  {
   "cell_type": "markdown",
   "metadata": {},
   "source": [
    "## 13.6 Merger with list containing EIC-codes and geographic coordinates"
   ]
  },
  {
   "cell_type": "code",
   "execution_count": null,
   "metadata": {
    "collapsed": false
   },
   "outputs": [],
   "source": [
    "# Acess the second list with EIC-Codes and geographic coordinates\n",
    "data_ES2_filepath = 'data_processed/EIC_data/data_ES.xlsx'\n",
    "data_ES2 = pd.read_excel(data_ES2_filepath, sheetname='data_ES')\n",
    "\n",
    "# Drop columns of the second list before merger\n",
    "colsToDrop = ['Company', 'Name']\n",
    "data_ES2 = data_ES2.drop(colsToDrop, axis=1)\n",
    "\n",
    "# Merge the lists\n",
    "data_ES = pd.concat([data_ES, data_ES2], axis=1)\n",
    "\n",
    "data_ES.head()\n"
   ]
  },
  {
   "cell_type": "markdown",
   "metadata": {},
   "source": [
    "# 14. United Kingdom"
   ]
  },
  {
   "cell_type": "markdown",
   "metadata": {},
   "source": [
    "## 14.1 Import data"
   ]
  },
  {
   "cell_type": "code",
   "execution_count": null,
   "metadata": {
    "collapsed": false
   },
   "outputs": [],
   "source": [
    "# Check if input works\n",
    "data_UK = importdata('UK', 'GOV')\n"
   ]
  },
  {
   "cell_type": "markdown",
   "metadata": {},
   "source": [
    "## 14.2 Translate and adjust columns"
   ]
  },
  {
   "cell_type": "markdown",
   "metadata": {},
   "source": [
    "Overall adjustment of all columns within the dataframe. Translation, addition, deletion, sorting of columns as well as adjustment of the column entries' types."
   ]
  },
  {
   "cell_type": "code",
   "execution_count": null,
   "metadata": {
    "collapsed": false
   },
   "outputs": [],
   "source": [
    "# Rename sixth column\n",
    "data_UK.columns.values[5] = 'Location'\n",
    "\n",
    "# Drop rows without station names, so that the footnotes at the end of the list are deleted\n",
    "data_UK = data_UK.dropna(subset=['Station Name'])\n",
    "\n",
    "# Drop columns not needed anymore\n",
    "colsToDrop = ['Footnotes']\n",
    "data_UK = data_UK.drop(colsToDrop, axis=1)\n",
    "\n",
    "# Rename columns\n",
    "dict_columns_UK = {'Company Name': 'Company',\n",
    "                   'Station Name': 'Name',\n",
    "                   'Installed Capacity (MW)': 'Capacity',\n",
    "                   'Country': 'Country',\n",
    "                   'Location': 'Location',\n",
    "                   'Fuel': 'Fuel',\n",
    "                   'Year of commission or year generation began': 'Commissioned',\n",
    "                   'Source': 'Source'}\n",
    "data_UK.rename(columns=dict_columns_UK, inplace=True)\n",
    "\n",
    "# Check if all columns have been renamed\n",
    "for columnnames in data_UK.columns:\n",
    "    if columnnames not in dict_columns_UK.values():\n",
    "        logger.error(\"Not renamed column: \" + columnnames)\n",
    "\n",
    "# Adjust names of region\n",
    "dict_regions_UK = {'East': 'England',\n",
    "                   'East Midlands': 'England',\n",
    "                   'London': 'England',\n",
    "                   'North East': 'England',\n",
    "                   'North West': 'England',\n",
    "                   'South East': 'England',\n",
    "                   'South West': 'England',\n",
    "                   'West Midlands': 'England',\n",
    "                   'Yorkshire and the Humber': 'England',\n",
    "                   'N Ireland': 'Northern Ireland'}\n",
    "data_UK[\"Location\"].replace(dict_regions_UK, inplace=True)\n",
    "data_UK[\"Location\"].unique()\n",
    "\n",
    "# Merge columns \"Country\" and \"Location\" to one column called \"Country\"\n",
    "data_UK['Country'] = data_UK[['Country', 'Location']].apply(\n",
    "    lambda x: '{} - {}'.format(x[0], x[1]), axis=1)\n",
    "\n",
    "# Drop column \"Location\" after merger\n",
    "colsToDrop = ['Location']\n",
    "data_UK = data_UK.drop(colsToDrop, axis=1)\n",
    "\n",
    "# Apply general template of columns\n",
    "data_UK = data_UK.reindex(columns=columns_sorted)\n",
    "\n",
    "# Adjust types of entries in all columns\n",
    "data_UK.Capacity = data_UK.Capacity.astype(float)\n",
    "# data_UK.Commissioned = data_UK.Commissioned.astype(str)\n"
   ]
  },
  {
   "cell_type": "markdown",
   "metadata": {},
   "source": [
    "## 14.3 Generate and adjust technology types"
   ]
  },
  {
   "cell_type": "markdown",
   "metadata": {},
   "source": [
    "Generation of entries for the column \"Technology\" according to information given in the column \"Fuel\"."
   ]
  },
  {
   "cell_type": "code",
   "execution_count": null,
   "metadata": {
    "collapsed": false
   },
   "outputs": [],
   "source": [
    "# Generate entries in column \"technology\" according to column \"fuel\"\n",
    "data_UK.loc[data_UK['Fuel'] == 'Hydro', 'Technology'] = 'hydro_plant'\n",
    "data_UK.loc[data_UK['Fuel'] == 'Hydro / pumped storage', 'Technology'] = 'PSP'\n",
    "data_UK.loc[data_UK['Fuel'] == 'Pumped storage', 'Technology'] = 'PSP'\n",
    "data_UK.loc[data_UK['Fuel'] == 'Wind', 'Technology'] = 'wind_turbine'\n",
    "data_UK.loc[data_UK['Fuel'] == 'Wind (offshore)', 'Technology'] = 'wind_turbine'\n",
    "data_UK.loc[data_UK['Fuel'] == 'Nuclear', 'Technology'] = 'ST'\n",
    "data_UK.loc[data_UK['Fuel'] == 'CCGT', 'Technology'] = 'CC'\n",
    "data_UK.loc[data_UK['Fuel'] == 'OCGT', 'Technology'] = 'GT'\n"
   ]
  },
  {
   "cell_type": "markdown",
   "metadata": {},
   "source": [
    "## 14.4 Translate and adjust fuel types"
   ]
  },
  {
   "cell_type": "markdown",
   "metadata": {},
   "source": [
    "Overall translation of all fuel types mentioned in the column \"Fuel\" and subsequent translation check. Deletion of rows containing \"wind\" as fuel type."
   ]
  },
  {
   "cell_type": "code",
   "execution_count": null,
   "metadata": {
    "collapsed": false
   },
   "outputs": [],
   "source": [
    "dict_fuels_UK = {'Biomass': 'biomass',\n",
    "                 'CCGT': 'gas',\n",
    "                 'Coal': 'coal',\n",
    "                 'Coal / biomass': 'coal',\n",
    "                 'Coal / biomass / gas / waste derived fuel': 'coal',\n",
    "                 'Coal / oil': 'coal',\n",
    "                 'Diesel': 'oil',\n",
    "                 'Gas': 'gas',\n",
    "                 'Gas / oil': 'gas',\n",
    "                 'Gas oil': 'oil',\n",
    "                 'Gas oil / kerosene': 'oil',\n",
    "                 'Hydro': 'hydro',\n",
    "                 'Hydro / pumped storage': 'hydro',\n",
    "                 'Light oil': 'oil',\n",
    "                 'Meat & bone meal': 'waste',\n",
    "                 'Nuclear': 'uranium',\n",
    "                 'OCGT': 'gas',\n",
    "                 'Oil': 'oil',\n",
    "                 'Pumped storage': 'hydro',\n",
    "                 'Straw': 'biomass',\n",
    "                 'Waste': 'waste',\n",
    "                 'Wind': 'wind',\n",
    "                 'Wind (offshore)': 'wind',\n",
    "                 'Solar': 'solar'}\n",
    "data_UK[\"Fuel\"].replace(dict_fuels_UK, inplace=True)\n",
    "data_UK[\"Fuel\"].unique()\n",
    "\n",
    "# Check if all fuels have been translated\n",
    "for fuel in data_UK[\"Fuel\"].unique():\n",
    "    if (fuel not in dict_fuels_UK.values()) & (str(fuel) != \"nan\"):\n",
    "        logger.error(\"Not renamed fuel type: \" + str(fuel))\n",
    "\n",
    "# Delete unwanted fuels\n",
    "data_UK = data_UK[data_UK.Fuel != 'wind']\n",
    "data_UK = data_UK[data_UK.Fuel != 'solar']\n"
   ]
  },
  {
   "cell_type": "markdown",
   "metadata": {},
   "source": [
    "## 14.5 Merger with list containing EIC-codes and geographic coordinates"
   ]
  },
  {
   "cell_type": "code",
   "execution_count": null,
   "metadata": {
    "collapsed": false
   },
   "outputs": [],
   "source": [
    "# Acess the second list with EIC-Codes and geographic coordinates\n",
    "data_UK2_filepath = 'data_processed/EIC_data/data_UK.xlsx'\n",
    "data_UK2 = pd.read_excel(data_UK2_filepath, sheetname='data_UK')\n",
    "\n",
    "# Drop columns of the second list before merger\n",
    "colsToDrop = ['Company', 'Name']\n",
    "data_UK2 = data_UK2.drop(colsToDrop, axis=1)\n",
    "\n",
    "# Merge the lists\n",
    "data_UK = pd.concat([data_UK, data_UK2], axis=1)\n",
    "\n",
    "data_UK.head()\n"
   ]
  },
  {
   "cell_type": "markdown",
   "metadata": {},
   "source": [
    "# 15. Czech Republic"
   ]
  },
  {
   "cell_type": "markdown",
   "metadata": {},
   "source": [
    "## 15.1 Import data"
   ]
  },
  {
   "cell_type": "code",
   "execution_count": null,
   "metadata": {
    "collapsed": false
   },
   "outputs": [],
   "source": [
    "# Check if input works\n",
    "data_CZ = importdata('CZ', 'CEPS')\n"
   ]
  },
  {
   "cell_type": "markdown",
   "metadata": {},
   "source": [
    "## 15.2 Translate and adjust columns"
   ]
  },
  {
   "cell_type": "markdown",
   "metadata": {},
   "source": [
    "Overall adjustment of all columns within the dataframe. Translation, addition, deletion, sorting of columns as well as adjustment of the column entries' types."
   ]
  },
  {
   "cell_type": "code",
   "execution_count": null,
   "metadata": {
    "collapsed": false
   },
   "outputs": [],
   "source": [
    "# Merge columns \"Power plant\" and \"Generating unit\" to one column called \"Name\"\n",
    "data_CZ['Name'] = data_CZ[['Power plant', 'Generating unit']].apply(\n",
    "    lambda x: '{} {}'.format(x[0], x[1]), axis=1)\n",
    "\n",
    "# Rename columns\n",
    "dict_columns_CZ = {'Name': 'Name',\n",
    "                   'Available capacity [MW]': 'Capacity',\n",
    "                   'Type of source': 'Technology',\n",
    "                   'Country': 'Country',\n",
    "                   'Source': 'Source'}\n",
    "data_CZ.rename(columns=dict_columns_CZ, inplace=True)\n",
    "\n",
    "# Check if all columns have been renamed\n",
    "for columnnames in data_CZ.columns:\n",
    "    if columnnames not in dict_columns_CZ.values():\n",
    "        logger.error(\"Not renamed column: \" + columnnames)\n",
    "\n",
    "# Filter rows by considering \"name\" and maximum \"capacity\"\n",
    "data_CZ = data_CZ.sort_values('Capacity', ascending=False).groupby(\n",
    "    'Name', as_index=False).first()\n",
    "\n",
    "# Apply general template of columns\n",
    "data_CZ = data_CZ.reindex(columns=columns_sorted)\n",
    "\n",
    "# Drop columns not needed anymore\n",
    "colsToDrop = [# 'Date', \n",
    "              # 'Power plant', \n",
    "              # 'Generating unit',\n",
    "              'EIC-Code',\n",
    "              'Lat',\n",
    "              'Lon']\n",
    "data_CZ = data_CZ.drop(colsToDrop, axis=1)\n",
    "\n",
    "# Adjust types of entries in all columns\n",
    "data_CZ.Capacity = data_CZ.Capacity.astype(float)\n",
    "# data_CZ.Commissioned = data_CZ.Commissioned.astype(str)\n"
   ]
  },
  {
   "cell_type": "markdown",
   "metadata": {},
   "source": [
    "## 15.3 Translate and adjust technology types"
   ]
  },
  {
   "cell_type": "markdown",
   "metadata": {},
   "source": [
    "Overall translation of all technology types mentioned in the column \"Technology\" and subsequent translation check."
   ]
  },
  {
   "cell_type": "code",
   "execution_count": null,
   "metadata": {
    "collapsed": false
   },
   "outputs": [],
   "source": [
    "# FRAUKE: Bekommen einige Warnmeldungen nach dieser Zelle, hate denke ich wieder damit\n",
    "## zu tun, dass man .loc verwenden sollte um bestimmt Spalten anzusprechen\n",
    "# Generate entries in column \"fuel\" for hydro, wind and solar stations according to column \"technology\"\n",
    "data_CZ.loc[data_CZ[\n",
    "    'Technology'] == 'Jaderná elektrárna', 'Fuel'] = 'uranium'\n",
    "data_CZ.loc[data_CZ[\n",
    "    'Technology'] == 'Přečerpávací vodní elektrárna', 'Fuel'] = 'hydro'\n",
    "data_CZ.loc[data_CZ[\n",
    "    'Technology'] == 'Parní elektrárna', 'Fuel'] = 'NaN'\n",
    "data_CZ.loc[data_CZ[\n",
    "    'Technology'] == 'Paroplynová elektrárna', 'Fuel'] = 'gas'\n",
    "\n",
    "# Translate technologies\n",
    "dict_technologies_CZ = {'Přečerpávací vodní elektrárna': 'PSP',\n",
    "                        'Parní elektrárna': 'ST',\n",
    "                        'Jaderná elektrárna': 'ST',\n",
    "                        'Paroplynová elektrárna': 'CC'}\n",
    "data_CZ[\"Technology\"].replace(dict_technologies_CZ, inplace=True)\n",
    "data_CZ[\"Technology\"].unique()\n",
    "\n",
    "# Check if all technologies have been translated\n",
    "for fuel in data_CZ[\"Technology\"].unique():\n",
    "    if (fuel not in dict_technologies_CZ.values()) & (str(fuel) != \"nan\"):\n",
    "        logger.error(\"Untranslated technology: \" + str(fuel))\n"
   ]
  },
  {
   "cell_type": "markdown",
   "metadata": {},
   "source": [
    "## 15.4 Merger with list containing EIC-codes, geographic coordinates and further power plants"
   ]
  },
  {
   "cell_type": "code",
   "execution_count": null,
   "metadata": {
    "collapsed": false
   },
   "outputs": [],
   "source": [
    "# FRAUKE: wie bei der polnischen Liste, kurze Erklärung woher die kommt\n",
    "# Acess the second list with EIC-Codes and geographic coordinates\n",
    "data_CZ2_filepath = 'data_processed/EIC_data/data_CZ.xlsx'\n",
    "data_CZ2 = pd.read_excel(data_CZ2_filepath, sheetname='data_CZ')\n",
    "\n",
    "# Drop columns of the second list before merger\n",
    "colsToDrop = ['Company', 'Name']\n",
    "data_CZ2 = data_CZ2.drop(colsToDrop, axis=1)\n",
    "\n",
    "# Merge the lists\n",
    "data_CZ = pd.concat([data_CZ, data_CZ2], axis=1)\n",
    "\n",
    "# Access the third list with additional power plants\n",
    "data_CZ3_filepath = 'data_processed/Further_Lists/data_CZ_2.xlsx'\n",
    "data_CZ3 = pd.read_excel(data_CZ3_filepath, sheetname='pp_list_CZ2')\n",
    "\n",
    "# Merge the lists\n",
    "data_CZ = data_CZ.append(data_CZ3)\n",
    "\n",
    "data_CZ.head()\n"
   ]
  },
  {
   "cell_type": "markdown",
   "metadata": {},
   "source": [
    "# 16. Switzerland"
   ]
  },
  {
   "cell_type": "markdown",
   "metadata": {},
   "source": [
    "## 16.1 Import of hydropower data"
   ]
  },
  {
   "cell_type": "code",
   "execution_count": null,
   "metadata": {
    "collapsed": false
   },
   "outputs": [],
   "source": [
    "# Import detailed technical hydro power data\n",
    "data_CH = importdata('CH', 'BFE_HydroData')\n",
    "# data_CH = data_CH.set_index(['ZE-Nr'])\n",
    "\n",
    "# Import geographical data on swiss hydro power plants\n",
    "# data_CHgeo = importdata('CH','BFE_HydroGeo')\n",
    "# data_CHgeo = data_CHgeo.set_index(['WASTANumbe'])\n",
    "# data_CHgeo.head()\n"
   ]
  },
  {
   "cell_type": "markdown",
   "metadata": {},
   "source": [
    "## 16.2 Transformation of geographical hydro power data to WGS84 projection"
   ]
  },
  {
   "cell_type": "code",
   "execution_count": null,
   "metadata": {
    "collapsed": true
   },
   "outputs": [],
   "source": [
    "wgs84 = pyproj.Proj(\"+init=EPSG:4326\")  # LatLon with WGS84 datum used by GPS units and Google Earth\n",
    "ch1903 = pyproj.Proj(\"+init=EPSG:21781\")  # CH1903 projection used in BFE-Data\n",
    "\n",
    "data_CH[['Lon', 'Lat']] = data_CH[\n",
    "    ['ZE-Koordinaten unscharf (Nord)', 'ZE-Koordinaten unscharf (Ost)']].apply(\n",
    "        lambda row: pyproj.transform(\n",
    "            ch1903, wgs84, row[1], row[0]), axis=1).apply(pd.Series)\n"
   ]
  },
  {
   "cell_type": "markdown",
   "metadata": {
    "collapsed": true
   },
   "source": [
    "## 16.3 Merger of columns belonging together"
   ]
  },
  {
   "cell_type": "code",
   "execution_count": null,
   "metadata": {
    "collapsed": true
   },
   "outputs": [],
   "source": [
    "# Merge columns \"ZE-Erste Inbetriebnahme\" and \"ZE-Letzte Inbetriebnahme\" to one column called \"Commissioned\"\n",
    "data_CH['Commissioned'] = data_CH[\n",
    "    ['ZE-Erste Inbetriebnahme', 'ZE-Letzte Inbetriebnahme']].apply(\n",
    "        lambda x: '{} / {}'.format(x[0], x[1]), axis=1)\n",
    "\n",
    "# Merge columns \"ZE-Standort\" and \"ZE-Kanton\" to one column called \"City\"\n",
    "data_CH['City'] = data_CH[\n",
    "    ['ZE-Kanton', 'ZE-Standort']].apply(\n",
    "    lambda x: '{} - {}'.format(x[0], x[1]), axis=1)\n",
    "\n",
    "# Merge columns \"Bemerkung (1) - (10)\" to one column \"Comment\"\n",
    "data_CH['Comment'] = data_CH[['Bemerkung (1)',\n",
    "                              'Bemerkung (2)',\n",
    "                              'Bemerkung (3)',\n",
    "                              'Bemerkung (4)',\n",
    "                              'Bemerkung (5)',\n",
    "                              'Bemerkung (6)',\n",
    "                              'Bemerkung (7)',\n",
    "                              'Bemerkung (8)',\n",
    "                              'Bemerkung (9)',\n",
    "                              'Bemerkung (10)']].apply(\n",
    "                                  lambda x:\n",
    "                                      '{}_{}_{}_{}_{}_{}_{}_{}_{}_{}'.format(\n",
    "                                        x[0],\n",
    "                                        x[1],\n",
    "                                        x[2],\n",
    "                                        x[3],\n",
    "                                        x[4],\n",
    "                                        x[5],\n",
    "                                        x[6],\n",
    "                                        x[7],\n",
    "                                        x[8],\n",
    "                                        x[9]), axis=1)\n"
   ]
  },
  {
   "cell_type": "markdown",
   "metadata": {},
   "source": [
    "## 16.4 Translate and adjust columns"
   ]
  },
  {
   "cell_type": "code",
   "execution_count": null,
   "metadata": {
    "collapsed": false
   },
   "outputs": [],
   "source": [
    "# Drop columns not needed anymore\n",
    "colsToDrop = ['ZE-Nr',\n",
    "              'ZE-Name',\n",
    "              'ZE-Standort',\n",
    "              'ZE-Kanton',\n",
    "              'Funktion: Turbinieren',\n",
    "              'Funktion: Pumpen',\n",
    "              'QTurbine [m3/sec]',\n",
    "              '(\"LTURBINE[MW]\"/100)*\"PROZ.ANTEILCH\"',\n",
    "              'Max. Leistung ab Generator',\n",
    "              '(\"LGENERATOR[MW]\"/100)*\"PROZ.ANTEILCH\"',\n",
    "              'Prod. ohne Umwälzbetrieb - W.',\n",
    "              'Prod. ohne Umwälzbetrieb - S.',\n",
    "              'Prod. ohne Umwälzbetrieb - J.',\n",
    "              '(\"PROD.OHNEUMWÄLZBETRIEB-J.\"/100)*\"PROZ.ANTEILCH\"',\n",
    "              'QPumpe [m3/sec]',\n",
    "              'Inst. Pumpenleistung',\n",
    "              'Leistungsaufnahme Motoren',\n",
    "              'Bedarf ohne Umwälzb. - W.',\n",
    "              'Bedarf ohne Umwälzb. - S.',\n",
    "              'Bedarf ohne Umwälzb. - J.',\n",
    "              'ZE-Erste Inbetriebnahme',\n",
    "              'ZE-Letzte Inbetriebnahme',\n",
    "              'ZE-Kote',\n",
    "              'Proz. Anteil CH',\n",
    "              'Kantonsanteil: Kanton Name (1)',\n",
    "              'Kantonsanteil (1)',\n",
    "              'Kantonsanteil: Kanton Name (2)',\n",
    "              'Kantonsanteil (2)',\n",
    "              'Kantonsanteil: Kanton Name (3)',\n",
    "              'Kantonsanteil (3)',\n",
    "              'Genutzte Gewässer - Name (1)',\n",
    "              'Genutzte Gewässer - Name (2)',\n",
    "              'Genutzte Gewässer - Name (3)',\n",
    "              'Genutzte Gewässer - Name (4)',\n",
    "              'Genutzte Gewässer - Name (5)',\n",
    "              'Genutzte Gewässer - Name (6)',\n",
    "              'Genutzte Gewässer - Name (7)',\n",
    "              '(\"LGENERATOR[MW]\"/100)*\"PROZ.ANTEILCH\".1',\n",
    "              'Genutzte Gewässer - Name (8)',\n",
    "              'Genutzte Gewässer - Name (9)',\n",
    "              'Genutzte Gewässer - Name (10)',\n",
    "              'Genutzte Gewässer - Name (11)',\n",
    "              'Genutzte Gewässer - Name (12)',\n",
    "              'Ersatzenergie: Richtung (1)',\n",
    "              'Ersatzenergie: Partner (1)',\n",
    "              'Ersatzenergie: Richtung (2)',\n",
    "              'Ersatzenergie: Partner (2)',\n",
    "              'Ersatzenergie: Richtung (3)',\n",
    "              'Ersatzenergie: Partner (3)',\n",
    "              'Ersatzenergie: Richtung (4)',\n",
    "              'Ersatzenergie: Partner (4)',\n",
    "              'Ersatzenergie: Richtung (5)',\n",
    "              'Ersatzenergie: Partner (5)',\n",
    "              'Ersatzenergie :Richtung (6)',\n",
    "              'Ersatzenergie: Partner (6)',\n",
    "              'Ersatzenergie: Richtung (7)',\n",
    "              'Ersatzenergie: Partner (7)',\n",
    "              'Ersatzenergie: Richtung (8)',\n",
    "              'Ersatzenergie: Partner (8)',\n",
    "              'Ersatzenergie: Richtung (9)',\n",
    "              'Ersatzenergie: Partner (9)',\n",
    "              'Ersatzenergie: Richtung (10)',\n",
    "              'Ersatzenergie: Partner (10)',\n",
    "              'Ersatzenergie: Richtung (11)',\n",
    "              'Ersatzenergie: Partner (11)',\n",
    "              'Ersatzenergie: Richtung (12)',\n",
    "              'Ersatzenergie: Partner (12)',\n",
    "              'Rechte - Name (1)',\n",
    "              'Rechte - Endjahr (1)',\n",
    "              'Rechte - Name (2)',\n",
    "              'Rechte - Endjahr (2)',\n",
    "              'Rechte - Name (3)',\n",
    "              'Rechte - Endjahr (3)',\n",
    "              'Rechte - Name (4)',\n",
    "              'Rechte - Endjahr (4)',\n",
    "              'Rechte - Name (5)',\n",
    "              'Rechte - Endjahr (5)',\n",
    "              'Rechte - Name (6)',\n",
    "              'Rechte - Endjahr (6)',\n",
    "              'Rechte - Name (7)',\n",
    "              'Rechte - Endjahr (7)',\n",
    "              'Rechte - Name (8)',\n",
    "              'Rechte - Endjahr (8)',\n",
    "              'Rechte - Name (9)',\n",
    "              'Rechte - Endjahr (9)',\n",
    "              'Rechte - Name (10)',\n",
    "              'Rechte - Endjahr (10)',\n",
    "              'Bemerkung (1)',\n",
    "              'Bemerkung (2)',\n",
    "              'Bemerkung (3)',\n",
    "              'Bemerkung (4)',\n",
    "              'Bemerkung (5)',\n",
    "              'Bemerkung (6)',\n",
    "              'Bemerkung (7)',\n",
    "              'Bemerkung (8)',\n",
    "              'Bemerkung (9)',\n",
    "              'Bemerkung (10)',\n",
    "              'ZE-Koordinaten unscharf (Ost)',\n",
    "              'ZE-Koordinaten unscharf (Nord)']\n",
    "data_CH = data_CH.drop(colsToDrop, axis=1)\n",
    "\n",
    "# Translate columns\n",
    "dict_columns_CH = {'WKA-Name': 'Name',\n",
    "                   'WKA-Typ': 'Technology',\n",
    "                   'ZE-Status': 'Availability',\n",
    "                   'Inst. Turbinenleistung': 'Capacity'}\n",
    "data_CH.rename(columns=dict_columns_CH, inplace=True)\n",
    "\n",
    "# Check if all columns have been translated\n",
    "for columnnames in data_CH.columns:\n",
    "    if columnnames not in dict_columns_CH.values():\n",
    "        logger.error(\"Untranslated column: \" + columnnames)\n",
    "\n",
    "# Apply general template of columns\n",
    "data_CH = data_CH.reindex(columns=columns_sorted)\n",
    "\n",
    "# Adjust type of entries in column \"Capacity\"\n",
    "data_CH.Capacity = data_CH.Capacity.astype(float)\n",
    "\n",
    "# Set entries of entire column \"fuel\" to \"hydro\"\n",
    "data_CH['Fuel'] = 'hydro'\n"
   ]
  },
  {
   "cell_type": "markdown",
   "metadata": {},
   "source": [
    "## 16.5 Translate and adjust technology and availability types¶"
   ]
  },
  {
   "cell_type": "code",
   "execution_count": null,
   "metadata": {
    "collapsed": false
   },
   "outputs": [],
   "source": [
    "# Adjust technologies\n",
    "dict_technologies_CH = {'L': 'ROR',\n",
    "                        'S': 'RES',\n",
    "                        'P': 'PSP',\n",
    "                        'U': 'PSP'}\n",
    "data_CH[\"Technology\"].replace(dict_technologies_CH, inplace=True)\n",
    "data_CH[\"Technology\"].unique()\n",
    "\n",
    "# Adjust availabilities\n",
    "dict_availabilities_CH = {'im Normalbetrieb': '1',\n",
    "                          'im Bau': '0',\n",
    "                          'im Umbau': '0',\n",
    "                          'stillgelegt': '0'}\n",
    "data_CH[\"Availability\"].replace(dict_availabilities_CH, inplace=True)\n",
    "data_CH[\"Availability\"].unique()\n",
    "\n",
    "# List only operating plants\n",
    "data_CH = data_CH[data_CH.Availability != '0']\n"
   ]
  },
  {
   "cell_type": "markdown",
   "metadata": {},
   "source": [
    "Merge technical and geographical hydro power data to a single dataset."
   ]
  },
  {
   "cell_type": "code",
   "execution_count": null,
   "metadata": {
    "collapsed": false
   },
   "outputs": [],
   "source": [
    "# data_CH = pd.merge(data_CH,data_CHgeo,left_index=True, right_index=True, how='left')\n"
   ]
  },
  {
   "cell_type": "markdown",
   "metadata": {},
   "source": [
    "## 16.6 Merger with list containing conventional power plants"
   ]
  },
  {
   "cell_type": "code",
   "execution_count": null,
   "metadata": {
    "collapsed": false
   },
   "outputs": [],
   "source": [
    "# Access the third list with conventional power plants\n",
    "data_CH2_filepath = 'data_processed/EIC_data/data_CH-conventional.xlsx'\n",
    "data_CH2 = pd.read_excel(data_CH2_filepath, sheetname='data_CH-conventional')\n",
    "\n",
    "# Merge the lists\n",
    "data_CH = data_CH.append(data_CH2)\n",
    "\n",
    "data_CH.head()\n"
   ]
  },
  {
   "cell_type": "markdown",
   "metadata": {},
   "source": [
    "# 17. Create output-files"
   ]
  },
  {
   "cell_type": "code",
   "execution_count": null,
   "metadata": {
    "collapsed": false,
    "scrolled": true
   },
   "outputs": [],
   "source": [
    "data_BE.to_csv('data_processed/data_BE.csv')\n",
    "data_NL.to_csv('data_processed/data_NL.csv')\n",
    "data_IT.to_csv('data_processed/data_IT.csv')\n",
    "data_FR.to_csv('data_processed/data_FR.csv')\n",
    "data_FI.to_csv('data_processed/data_FI.csv')\n",
    "data_PL.to_csv('data_processed/data_PL.csv')\n",
    "data_ES.to_csv('data_processed/data_ES.csv')\n",
    "data_UK.to_csv('data_processed/data_UK.csv')\n",
    "data_CZ.to_csv('data_processed/data_CZ.csv')\n",
    "data_CH.to_csv('data_processed/data_CH.csv')\n"
   ]
  },
  {
   "cell_type": "markdown",
   "metadata": {},
   "source": [
    "# 18. Documenting the data package (meta data)"
   ]
  },
  {
   "cell_type": "markdown",
   "metadata": {},
   "source": [
    "We document the data packages meta data in the specific format JSON as proposed by the Open Knowledge Foundation. See the Frictionless Data project by OKFN (http://data.okfn.org/) and the Data Package specifications (http://dataprotocols.org/data-packages/) for more details.\n",
    "\n",
    "In order to keep the notebook more readable, we first formulate the metadata in the human-readable YAML format using a multi-line string. We then parse the string into a Python dictionary and save that to disk as a JSON file."
   ]
  },
  {
   "cell_type": "code",
   "execution_count": null,
   "metadata": {
    "collapsed": true
   },
   "outputs": [],
   "source": [
    "# Here we define meta data of the resulting data package.\n",
    "# The meta data follows the specification at:\n",
    "# http://dataprotocols.org/data-packages/\n",
    "\n",
    "metadata = \"\"\"\n",
    "\n",
    "name: opsd-power-plants-europe\n",
    "title: Power plants of European countries\n",
    "description: xxx\n",
    "version: \"2016-04-22\"\n",
    "keywords: [power plants,europe]\n",
    "opsd-jupyter-notebook-url: \"https://github.com/Open-Power-System-Data/datapackage_power_plants_europe/blob/master/main.ipynb\"\n",
    "geographical-scope: Europe\n",
    "opsd-changes-to-last-version: xxx\n",
    "\n",
    "resources:\n",
    "    - path: xxx.csv\n",
    "      format: csv\n",
    "      mediatype: text/csv\n",
    "      schema:    \n",
    "        fields:\n",
    "            - name:\n",
    "              description:\n",
    "              type: \n",
    "    - path: xxx.xlsx\n",
    "      format: xlsx\n",
    "      mediatype: application/vnd.openxmlformats-officedocument.spreadsheetml.sheet\n",
    "              \n",
    "licenses:\n",
    "    - url: http://example.com/license/url/here\n",
    "      name: License Name Here\n",
    "      version: 1.0\n",
    "      id: license-id-from-open\n",
    "\n",
    "sources:\n",
    "    - name: \n",
    "      web: \n",
    "maintainers:\n",
    "    - name: Friedrich Kunz\n",
    "      email: fkunz@diw.de\n",
    "      web: http://open-power-system-data.org/\n",
    "\n",
    "openpowersystemdata-enable-listing: True  \n",
    "\n",
    "\n",
    "\"\"\"\n",
    "\n",
    "metadata = yaml.load(metadata)\n",
    "\n",
    "datapackage_json = json.dumps(metadata, indent=4, separators=(',', ': '))"
   ]
  },
  {
   "cell_type": "markdown",
   "metadata": {},
   "source": [
    "# 19. Write results to file"
   ]
  },
  {
   "cell_type": "code",
   "execution_count": null,
   "metadata": {
    "collapsed": false
   },
   "outputs": [],
   "source": [
    "output_path = 'data_final/'\n",
    "\n",
    "#Write the result to file\n",
    "#data.to_csv(output_path+'power_plants_europe.csv', encoding='utf-8')\n",
    "\n",
    "#Write the results to excel file\n",
    "#data.to_excel(output_path+'power_plants_europe.xlsx', sheet_name='output')\n",
    "\n",
    "#Write the results to sql database\n",
    "#data.to_sql(output_path+'power_plants_europe', sqlite3.connect(output_path+'power_plants_europe.sqlite'), if_exists=\"replace\") \n",
    "\n",
    "#Write the information of the metadata\n",
    "with open(os.path.join(output_path, 'datapackage.json'), 'w') as f:\n",
    "    f.write(datapackage_json)   "
   ]
  }
 ],
 "metadata": {
  "kernelspec": {
   "display_name": "Python 3",
   "language": "python",
   "name": "python3"
  },
  "language_info": {
   "codemirror_mode": {
    "name": "ipython",
    "version": 3
   },
   "file_extension": ".py",
   "mimetype": "text/x-python",
   "name": "python",
   "nbconvert_exporter": "python",
   "pygments_lexer": "ipython3",
   "version": "3.4.3"
  }
 },
 "nbformat": 4,
 "nbformat_minor": 0
}
