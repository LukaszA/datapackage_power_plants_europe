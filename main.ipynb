{
 "cells": [
  {
   "cell_type": "markdown",
   "metadata": {
    "collapsed": true
   },
   "source": [
    "# Open Power System Data: Power Plants in European countries"
   ]
  },
  {
   "cell_type": "markdown",
   "metadata": {},
   "source": [
    "## About this Notebook"
   ]
  },
  {
   "cell_type": "markdown",
   "metadata": {},
   "source": [
    "This is a ipython notebook that processes data on power plant capacities for European countries. The data includes generation capacity, generation technology, and locational information of individual power plants in European countries.\n",
    "\n",
    "The final output of the notebook is a list of power plants and their technical specifications."
   ]
  },
  {
   "cell_type": "markdown",
   "metadata": {},
   "source": [
    "## Data sources"
   ]
  },
  {
   "cell_type": "markdown",
   "metadata": {},
   "source": [
    "The data sources are mostly national sources on generation capacites. Some countries already provide detailed lists of national generation units including additional information on their locational and technical specifics. \n",
    "\n",
    "At the moment, only directly available lists are taken into account for the following countries:\n",
    "- [[Germany](https://github.com/Open-Power-System-Data/datapackage_power_plants): Germany is currently addressed separately in the respective Github repository.]\n",
    "- [Belgium](http://publications.elia.be/upload/ProductionParkOverview.xls?TS=20120416193815)\n",
    "- [Finland](http://www.energiavirasto.fi/documents/10191/0/Energiaviraston+Voimalaitosrekisteri+040316.xlsx)\n",
    "- [France](http://clients.rte-france.com/servlets/CodesEICServlet)\n",
    "- [Italy](http://download.terna.it/terna/0000/0216/16.XLSX)\n",
    "- [Poland](http://gpi.tge.pl/en/wykaz-jednostek?p_p_id=powerunits_WAR_powerunitsportlet&p_p_lifecycle=2&p_p_state=normal&p_p_mode=view&p_p_cacheability=cacheLevelPage&p_p_col_id=column-1&p_p_col_count=1)\n",
    "- [Spain](http://www6.mityc.es/aplicaciones/electra/ElectraExp.csv.zip)\n",
    "- [The Netherlands](http://www.tennet.org/english/operational_management/export_data.aspx)\n",
    "- [UK](https://www.gov.uk/government/uploads/system/uploads/attachment_data/file/446457/dukes5_10.xls)\n",
    "\n",
    "In the future, a further extension to other European countries is envisaged, as well as an extension of the current information by additional sources. These might include information on technical specifics as well as locational information for individual power plants."
   ]
  },
  {
   "cell_type": "markdown",
   "metadata": {},
   "source": [
    "## Links to Notebooks"
   ]
  },
  {
   "cell_type": "markdown",
   "metadata": {},
   "source": [
    "The following notebooks are used to downlad and process the input data:\n",
    "- [download and process](https://github.com/Open-Power-System-Data/datapackage_power_plants_europe/blob/master/download_and_process.ipynb)\n",
    "- validate\n",
    "   "
   ]
  }
 ],
 "metadata": {
  "kernelspec": {
   "display_name": "Python 3",
   "language": "python",
   "name": "python3"
  },
  "language_info": {
   "codemirror_mode": {
    "name": "ipython",
    "version": 3
   },
   "file_extension": ".py",
   "mimetype": "text/x-python",
   "name": "python",
   "nbconvert_exporter": "python",
   "pygments_lexer": "ipython3",
   "version": "3.4.3"
  }
 },
 "nbformat": 4,
 "nbformat_minor": 0
}
